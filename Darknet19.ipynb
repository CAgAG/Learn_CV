{
 "cells": [
  {
   "cell_type": "code",
   "execution_count": 1,
   "metadata": {
    "ExecuteTime": {
     "end_time": "2020-01-11T13:43:28.520484Z",
     "start_time": "2020-01-11T13:43:27.749280Z"
    }
   },
   "outputs": [],
   "source": [
    "import torch\n",
    "from torch import nn"
   ]
  },
  {
   "cell_type": "code",
   "execution_count": 15,
   "metadata": {
    "ExecuteTime": {
     "end_time": "2020-01-11T14:04:55.398534Z",
     "start_time": "2020-01-11T14:04:55.390301Z"
    }
   },
   "outputs": [],
   "source": [
    "class Conv2d(nn.Module):\n",
    "    def __init__(self, in_channels, out_channels, kernel_size, stride=1,\n",
    "                 relu=True, same_padding=False):\n",
    "        super(Conv2d, self).__init__()\n",
    "        padding = int((kernel_size - 1) / 2) if same_padding else 0\n",
    "        self.conv = nn.Conv2d(in_channels, out_channels, kernel_size,\n",
    "                              stride, padding=padding)\n",
    "        self.relu = nn.LeakyReLU(0.1, inplace=True) if relu else None\n",
    "\n",
    "    def forward(self, x):\n",
    "        x = self.conv(x)\n",
    "        if self.relu is not None:\n",
    "            x = self.relu(x)\n",
    "        return x"
   ]
  },
  {
   "cell_type": "code",
   "execution_count": 2,
   "metadata": {
    "ExecuteTime": {
     "end_time": "2020-01-11T13:54:02.268274Z",
     "start_time": "2020-01-11T13:54:02.259298Z"
    }
   },
   "outputs": [],
   "source": [
    "class Conv2d_BatchNorm(nn.Module):\n",
    "    def __init__(self, in_channels, out_channels, kernel_size, stride=1,\n",
    "                 relu=True, same_padding=False):\n",
    "        super(Conv2d_BatchNorm, self).__init__()\n",
    "        padding = int((kernel_size - 1) / 2) if same_padding else 0\n",
    "\n",
    "        self.conv = nn.Conv2d(in_channels, out_channels, kernel_size,\n",
    "                              stride, padding=padding, bias=False)\n",
    "        self.bn = nn.BatchNorm2d(out_channels, momentum=0.01)\n",
    "        self.relu = nn.LeakyReLU(0.1, inplace=True) if relu else None\n",
    "\n",
    "    def forward(self, x):\n",
    "        x = self.conv(x)\n",
    "        x = self.bn(x)\n",
    "        if self.relu is not None:\n",
    "            x = self.relu(x)\n",
    "        return x"
   ]
  },
  {
   "cell_type": "code",
   "execution_count": 12,
   "metadata": {
    "ExecuteTime": {
     "end_time": "2020-01-11T14:03:06.888991Z",
     "start_time": "2020-01-11T14:03:06.882057Z"
    }
   },
   "outputs": [],
   "source": [
    "def _make_layers(in_channels, net_cfg):\n",
    "    layers = []\n",
    "    if len(net_cfg) > 0 and isinstance(net_cfg[0], list):\n",
    "        for sub_cfg in net_cfg:\n",
    "            layer, in_channels = _make_layers(in_channels, sub_cfg)\n",
    "            layers.append(layer)\n",
    "    else:\n",
    "        for i in net_cfg:\n",
    "            if i == 'M':\n",
    "                layers.append(nn.MaxPool2d(2, stride=2))\n",
    "            else:\n",
    "                out_channels, ksize = i\n",
    "                layers.append(Conv2d_BatchNorm(in_channels, out_channels, ksize, same_padding=True))\n",
    "                in_channels = out_channels\n",
    "    return nn.Sequential(*layers), in_channels"
   ]
  },
  {
   "cell_type": "code",
   "execution_count": 13,
   "metadata": {
    "ExecuteTime": {
     "end_time": "2020-01-11T14:03:07.295125Z",
     "start_time": "2020-01-11T14:03:07.281974Z"
    }
   },
   "outputs": [],
   "source": [
    "class Darknet19(nn.Module):\n",
    "    def __init__(self):\n",
    "        super(Darknet19, self).__init__()\n",
    "        net_cfgs = [\n",
    "            # conv1s\n",
    "            [(32, 3)],\n",
    "            ['M', (64, 3)],\n",
    "            ['M', (128, 3), (64, 1), (128, 3)],\n",
    "            ['M', (256, 3), (128, 1), (256, 3)],\n",
    "            ['M', (512, 3), (256, 1), (512, 3), (256, 1), (512, 3)],\n",
    "            # conv2\n",
    "            ['M', (1024, 3), (512, 1), (1024, 3), (512, 1), (1024, 3)],\n",
    "            # ------------\n",
    "            # conv3\n",
    "            [(1024, 3), (1024, 3)],\n",
    "            # conv4\n",
    "            [(1024, 3)]\n",
    "        ]\n",
    "        # darknet\n",
    "        self.conv1s, c1 = _make_layers(3, net_cfgs[0:5])\n",
    "        self.conv2, c2 = _make_layers(c1, net_cfgs[5])\n",
    "        # ---\n",
    "        self.conv3, c3 = _make_layers(c2, net_cfgs[6])\n",
    "        \n",
    "        stride = 2\n",
    "        # stride*stride times the channels of conv1s\n",
    "        self.reorg = ReorgLayer(stride=2)\n",
    "        # cat [conv1s, conv3]\n",
    "        self.conv4, c4 = _make_layers((c1*(stride*stride) + c3), net_cfgs[7])\n",
    "\n",
    "        # linear\n",
    "#         out_channels = cfg.num_anchors * (cfg.num_classes + 5)\n",
    "#         self.conv5 = Conv2d(c4, out_channels, 1, 1, relu=False)\n",
    "#         self.global_average_pool = nn.AvgPool2d((1, 1))\n",
    "    \n",
    "    def forward(self, x):\n",
    "        conv1s = self.conv1s(x)\n",
    "        conv2 = self.conv2(conv1s)\n",
    "        conv3 = self.conv3(conv2)\n",
    "        conv1s_reorg = self.reorg(conv1s)\n",
    "        cat_1_3 = torch.cat([conv1s_reorg, conv3], 1)\n",
    "        conv4 = self.conv4(cat_1_3)\n",
    "#         conv5 = self.conv5(conv4)   # batch_size, out_channels, h, w\n",
    "#         global_average_pool = self.global_average_pool(conv5)\n",
    "        return conv4"
   ]
  },
  {
   "cell_type": "code",
   "execution_count": 14,
   "metadata": {
    "ExecuteTime": {
     "end_time": "2020-01-11T14:03:09.228151Z",
     "start_time": "2020-01-11T14:03:08.962895Z"
    }
   },
   "outputs": [
    {
     "ename": "NameError",
     "evalue": "name 'ReorgLayer' is not defined",
     "output_type": "error",
     "traceback": [
      "\u001b[1;31m---------------------------------------------------------------------------\u001b[0m",
      "\u001b[1;31mNameError\u001b[0m                                 Traceback (most recent call last)",
      "\u001b[1;32m<ipython-input-14-7b707c7c9b42>\u001b[0m in \u001b[0;36m<module>\u001b[1;34m\u001b[0m\n\u001b[1;32m----> 1\u001b[1;33m \u001b[0mdark19\u001b[0m \u001b[1;33m=\u001b[0m \u001b[0mDarknet19\u001b[0m\u001b[1;33m(\u001b[0m\u001b[1;33m)\u001b[0m\u001b[1;33m\u001b[0m\u001b[1;33m\u001b[0m\u001b[0m\n\u001b[0m",
      "\u001b[1;32m<ipython-input-13-e3524d382d03>\u001b[0m in \u001b[0;36m__init__\u001b[1;34m(self)\u001b[0m\n\u001b[0;32m     25\u001b[0m         \u001b[0mstride\u001b[0m \u001b[1;33m=\u001b[0m \u001b[1;36m2\u001b[0m\u001b[1;33m\u001b[0m\u001b[1;33m\u001b[0m\u001b[0m\n\u001b[0;32m     26\u001b[0m         \u001b[1;31m# stride*stride times the channels of conv1s\u001b[0m\u001b[1;33m\u001b[0m\u001b[1;33m\u001b[0m\u001b[1;33m\u001b[0m\u001b[0m\n\u001b[1;32m---> 27\u001b[1;33m         \u001b[0mself\u001b[0m\u001b[1;33m.\u001b[0m\u001b[0mreorg\u001b[0m \u001b[1;33m=\u001b[0m \u001b[0mReorgLayer\u001b[0m\u001b[1;33m(\u001b[0m\u001b[0mstride\u001b[0m\u001b[1;33m=\u001b[0m\u001b[1;36m2\u001b[0m\u001b[1;33m)\u001b[0m\u001b[1;33m\u001b[0m\u001b[1;33m\u001b[0m\u001b[0m\n\u001b[0m\u001b[0;32m     28\u001b[0m         \u001b[1;31m# cat [conv1s, conv3]\u001b[0m\u001b[1;33m\u001b[0m\u001b[1;33m\u001b[0m\u001b[1;33m\u001b[0m\u001b[0m\n\u001b[0;32m     29\u001b[0m         \u001b[0mself\u001b[0m\u001b[1;33m.\u001b[0m\u001b[0mconv4\u001b[0m\u001b[1;33m,\u001b[0m \u001b[0mc4\u001b[0m \u001b[1;33m=\u001b[0m \u001b[0m_make_layers\u001b[0m\u001b[1;33m(\u001b[0m\u001b[1;33m(\u001b[0m\u001b[0mc1\u001b[0m\u001b[1;33m*\u001b[0m\u001b[1;33m(\u001b[0m\u001b[0mstride\u001b[0m\u001b[1;33m*\u001b[0m\u001b[0mstride\u001b[0m\u001b[1;33m)\u001b[0m \u001b[1;33m+\u001b[0m \u001b[0mc3\u001b[0m\u001b[1;33m)\u001b[0m\u001b[1;33m,\u001b[0m \u001b[0mnet_cfgs\u001b[0m\u001b[1;33m[\u001b[0m\u001b[1;36m7\u001b[0m\u001b[1;33m]\u001b[0m\u001b[1;33m)\u001b[0m\u001b[1;33m\u001b[0m\u001b[1;33m\u001b[0m\u001b[0m\n",
      "\u001b[1;31mNameError\u001b[0m: name 'ReorgLayer' is not defined"
     ]
    }
   ],
   "source": [
    "dark19 = Darknet19()"
   ]
  },
  {
   "cell_type": "code",
   "execution_count": null,
   "metadata": {},
   "outputs": [],
   "source": []
  }
 ],
 "metadata": {
  "kernelspec": {
   "display_name": "Python 3",
   "language": "python",
   "name": "python3"
  },
  "language_info": {
   "codemirror_mode": {
    "name": "ipython",
    "version": 3
   },
   "file_extension": ".py",
   "mimetype": "text/x-python",
   "name": "python",
   "nbconvert_exporter": "python",
   "pygments_lexer": "ipython3",
   "version": "3.7.5rc1"
  }
 },
 "nbformat": 4,
 "nbformat_minor": 2
}
