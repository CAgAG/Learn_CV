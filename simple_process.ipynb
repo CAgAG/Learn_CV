{
 "cells": [
  {
   "cell_type": "code",
   "execution_count": 2,
   "metadata": {
    "ExecuteTime": {
     "end_time": "2020-01-08T12:22:03.742803Z",
     "start_time": "2020-01-08T12:22:03.727543Z"
    }
   },
   "outputs": [],
   "source": [
    "import torch\n",
    "import torch.nn.functional as F\n",
    "import torch.nn as nn\n",
    "import torch.optim as optim"
   ]
  },
  {
   "cell_type": "code",
   "execution_count": 3,
   "metadata": {
    "ExecuteTime": {
     "end_time": "2020-01-08T12:25:50.844000Z",
     "start_time": "2020-01-08T12:25:50.826731Z"
    }
   },
   "outputs": [],
   "source": [
    "class MLP(nn.Module):\n",
    "    def __init__(self, in_dim, hid_dim, out_dim):\n",
    "        super(MLP, self).__init__()\n",
    "        self.layer = nn.Sequential(\n",
    "            nn.Linear(in_dim, hid_dim),\n",
    "            nn.ReLU(),\n",
    "            nn.Linear(hid_dim, hid_dim*2),\n",
    "            nn.ReLU(),\n",
    "            nn.Linear(hid_dim*2, out_dim),\n",
    "            nn.ReLU()\n",
    "        )\n",
    "    \n",
    "    def forward(self, x):\n",
    "        return self.layer(x)"
   ]
  },
  {
   "cell_type": "code",
   "execution_count": 4,
   "metadata": {
    "ExecuteTime": {
     "end_time": "2020-01-08T12:26:36.815425Z",
     "start_time": "2020-01-08T12:26:36.790286Z"
    }
   },
   "outputs": [],
   "source": [
    "model = MLP(28*28, 300, 10)"
   ]
  },
  {
   "cell_type": "code",
   "execution_count": 5,
   "metadata": {
    "ExecuteTime": {
     "end_time": "2020-01-08T12:26:38.728909Z",
     "start_time": "2020-01-08T12:26:38.698789Z"
    }
   },
   "outputs": [
    {
     "data": {
      "text/plain": [
       "MLP(\n",
       "  (layer): Sequential(\n",
       "    (0): Linear(in_features=784, out_features=300, bias=True)\n",
       "    (1): ReLU()\n",
       "    (2): Linear(in_features=300, out_features=600, bias=True)\n",
       "    (3): ReLU()\n",
       "    (4): Linear(in_features=600, out_features=10, bias=True)\n",
       "    (5): ReLU()\n",
       "  )\n",
       ")"
      ]
     },
     "execution_count": 5,
     "metadata": {},
     "output_type": "execute_result"
    }
   ],
   "source": [
    "model"
   ]
  },
  {
   "cell_type": "code",
   "execution_count": 7,
   "metadata": {
    "ExecuteTime": {
     "end_time": "2020-01-08T12:28:32.262599Z",
     "start_time": "2020-01-08T12:28:32.249871Z"
    }
   },
   "outputs": [
    {
     "data": {
      "text/plain": [
       "tensor([[-2.2395, -0.0034,  0.3093,  ...,  0.5425,  1.8457, -0.2534],\n",
       "        [ 0.5295,  0.0789,  0.5092,  ...,  0.0859,  0.7294, -0.8616],\n",
       "        [ 0.2844,  0.9787,  0.9486,  ...,  0.7957, -0.1439, -1.0080],\n",
       "        ...,\n",
       "        [ 1.6438,  0.4822, -0.1895,  ...,  0.7436,  0.5421,  0.6080],\n",
       "        [-2.2322, -1.4338,  0.1744,  ...,  0.2500,  0.3849,  0.9755],\n",
       "        [-0.4006, -1.0895, -1.0699,  ...,  1.2996,  1.2557, -0.2944]])"
      ]
     },
     "execution_count": 7,
     "metadata": {},
     "output_type": "execute_result"
    }
   ],
   "source": [
    "optimizer = optim.SGD(params=model.parameters(), lr=.01)\n",
    "data = torch.randn(10, 28*28)\n",
    "data"
   ]
  },
  {
   "cell_type": "code",
   "execution_count": 8,
   "metadata": {
    "ExecuteTime": {
     "end_time": "2020-01-08T12:29:27.295299Z",
     "start_time": "2020-01-08T12:29:27.280741Z"
    }
   },
   "outputs": [],
   "source": [
    "label = torch.Tensor([i for i in range(10)]).long()"
   ]
  },
  {
   "cell_type": "code",
   "execution_count": 9,
   "metadata": {
    "ExecuteTime": {
     "end_time": "2020-01-08T12:31:06.787046Z",
     "start_time": "2020-01-08T12:31:06.772500Z"
    }
   },
   "outputs": [],
   "source": [
    "criterion = nn.CrossEntropyLoss()\n",
    "out = model(data)\n",
    "loss = criterion(out, label)"
   ]
  },
  {
   "cell_type": "code",
   "execution_count": 12,
   "metadata": {
    "ExecuteTime": {
     "end_time": "2020-01-08T12:31:54.247490Z",
     "start_time": "2020-01-08T12:31:54.226771Z"
    }
   },
   "outputs": [
    {
     "data": {
      "text/plain": [
       "tensor(2.3053, grad_fn=<NllLossBackward>)"
      ]
     },
     "execution_count": 12,
     "metadata": {},
     "output_type": "execute_result"
    }
   ],
   "source": [
    "loss"
   ]
  },
  {
   "cell_type": "code",
   "execution_count": 13,
   "metadata": {
    "ExecuteTime": {
     "end_time": "2020-01-08T12:32:10.465027Z",
     "start_time": "2020-01-08T12:32:10.459895Z"
    }
   },
   "outputs": [],
   "source": [
    "optimizer.zero_grad()"
   ]
  },
  {
   "cell_type": "code",
   "execution_count": 14,
   "metadata": {
    "ExecuteTime": {
     "end_time": "2020-01-08T12:32:41.488808Z",
     "start_time": "2020-01-08T12:32:40.813446Z"
    }
   },
   "outputs": [],
   "source": [
    "loss.backward()"
   ]
  },
  {
   "cell_type": "code",
   "execution_count": 15,
   "metadata": {
    "ExecuteTime": {
     "end_time": "2020-01-08T12:32:51.553278Z",
     "start_time": "2020-01-08T12:32:51.534780Z"
    }
   },
   "outputs": [],
   "source": [
    "optimizer.step()"
   ]
  },
  {
   "cell_type": "code",
   "execution_count": null,
   "metadata": {},
   "outputs": [],
   "source": []
  }
 ],
 "metadata": {
  "kernelspec": {
   "display_name": "Python 3",
   "language": "python",
   "name": "python3"
  },
  "language_info": {
   "codemirror_mode": {
    "name": "ipython",
    "version": 3
   },
   "file_extension": ".py",
   "mimetype": "text/x-python",
   "name": "python",
   "nbconvert_exporter": "python",
   "pygments_lexer": "ipython3",
   "version": "3.7.5rc1"
  }
 },
 "nbformat": 4,
 "nbformat_minor": 2
}
