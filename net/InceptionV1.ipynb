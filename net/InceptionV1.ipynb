{
 "cells": [
  {
   "cell_type": "code",
   "execution_count": 2,
   "metadata": {
    "ExecuteTime": {
     "end_time": "2020-01-10T03:34:56.564252Z",
     "start_time": "2020-01-10T03:34:56.560262Z"
    }
   },
   "outputs": [],
   "source": [
    "import torch\n",
    "from torch import nn\n",
    "import torch.nn.functional as F"
   ]
  },
  {
   "cell_type": "code",
   "execution_count": 3,
   "metadata": {
    "ExecuteTime": {
     "end_time": "2020-01-10T03:37:41.970390Z",
     "start_time": "2020-01-10T03:37:41.962413Z"
    }
   },
   "outputs": [],
   "source": [
    "class BasicConv2d(nn.Module):\n",
    "    def __init__(self, in_channels, out_channels, kernel_size, padding=0):\n",
    "        super(BasicConv2d, self).__init__()\n",
    "        self.conv = nn.Conv2d(in_channels, out_channels, kernel_size, padding=padding)\n",
    "    \n",
    "    def forward(self, x):\n",
    "        x = self.conv(x)\n",
    "        return F.relu(x, inplace=True)"
   ]
  },
  {
   "cell_type": "code",
   "execution_count": 4,
   "metadata": {
    "ExecuteTime": {
     "end_time": "2020-01-10T03:46:58.848072Z",
     "start_time": "2020-01-10T03:46:58.838815Z"
    }
   },
   "outputs": [],
   "source": [
    "class InceptionV1(nn.Module):\n",
    "    def __init__(self, in_dim, hid_1x1, hid_2x1, hid_2x3, hid_3x1, out_3x5, out_4x1):\n",
    "        super(InceptionV1, self).__init__()\n",
    "        self.branch_1x1 = BasicConv2d(in_dim, hid_1x1, 1)\n",
    "        self.branch_3x3 = nn.Sequential(\n",
    "            BasicConv2d(in_dim, hid_2x1, 1),\n",
    "            BasicConv2d(hid_2x1, hid_2x3, 3, padding=1)\n",
    "        )\n",
    "        self.branch_5x5 = nn.Sequential(\n",
    "            BasicConv2d(in_dim, hid_3x1, 1),\n",
    "            BasicConv2d(hid_3x1, out_3x5, 5, padding=2)\n",
    "        )\n",
    "        self.branch_pooling = nn.Sequential(\n",
    "            nn.MaxPool2d(3, stride=1, padding=1),\n",
    "            BasicConv2d(in_dim, out_4x1, 1)\n",
    "        )\n",
    "        \n",
    "    def forward(self, x):\n",
    "        b1 = self.branch_1x1(x)\n",
    "        b2 = self.branch_3x3(x)\n",
    "        b3 = self.branch_5x5(x)\n",
    "        b4 = self.branch_pooling(x)\n",
    "        out = torch.cat((b1, b2, b3, b4), dim=1)\n",
    "        return out"
   ]
  },
  {
   "cell_type": "code",
   "execution_count": 5,
   "metadata": {
    "ExecuteTime": {
     "end_time": "2020-01-10T03:48:01.631887Z",
     "start_time": "2020-01-10T03:48:01.623909Z"
    }
   },
   "outputs": [],
   "source": [
    "inception = InceptionV1(3, 64, 32, 64, 64, 96, 32)"
   ]
  },
  {
   "cell_type": "code",
   "execution_count": 6,
   "metadata": {
    "ExecuteTime": {
     "end_time": "2020-01-10T03:48:07.173521Z",
     "start_time": "2020-01-10T03:48:07.163514Z"
    }
   },
   "outputs": [
    {
     "data": {
      "text/plain": [
       "InceptionV1(\n",
       "  (branch_1x1): BasicConv2d(\n",
       "    (conv): Conv2d(3, 64, kernel_size=(1, 1), stride=(1, 1))\n",
       "  )\n",
       "  (branch_3x3): Sequential(\n",
       "    (0): BasicConv2d(\n",
       "      (conv): Conv2d(3, 32, kernel_size=(1, 1), stride=(1, 1))\n",
       "    )\n",
       "    (1): BasicConv2d(\n",
       "      (conv): Conv2d(32, 64, kernel_size=(3, 3), stride=(1, 1), padding=(1, 1))\n",
       "    )\n",
       "  )\n",
       "  (branch_5x5): Sequential(\n",
       "    (0): BasicConv2d(\n",
       "      (conv): Conv2d(3, 64, kernel_size=(1, 1), stride=(1, 1))\n",
       "    )\n",
       "    (1): BasicConv2d(\n",
       "      (conv): Conv2d(64, 96, kernel_size=(5, 5), stride=(1, 1), padding=(2, 2))\n",
       "    )\n",
       "  )\n",
       "  (branch_pooling): Sequential(\n",
       "    (0): MaxPool2d(kernel_size=3, stride=1, padding=1, dilation=1, ceil_mode=False)\n",
       "    (1): BasicConv2d(\n",
       "      (conv): Conv2d(3, 32, kernel_size=(1, 1), stride=(1, 1))\n",
       "    )\n",
       "  )\n",
       ")"
      ]
     },
     "execution_count": 6,
     "metadata": {},
     "output_type": "execute_result"
    }
   ],
   "source": [
    "inception"
   ]
  },
  {
   "cell_type": "code",
   "execution_count": 7,
   "metadata": {
    "ExecuteTime": {
     "end_time": "2020-01-10T03:49:23.298112Z",
     "start_time": "2020-01-10T03:49:23.293090Z"
    }
   },
   "outputs": [],
   "source": [
    "data = torch.randn(1, 3, 256, 256)"
   ]
  },
  {
   "cell_type": "code",
   "execution_count": 8,
   "metadata": {
    "ExecuteTime": {
     "end_time": "2020-01-10T03:49:47.691110Z",
     "start_time": "2020-01-10T03:49:46.703302Z"
    }
   },
   "outputs": [
    {
     "data": {
      "text/plain": [
       "torch.Size([1, 256, 256, 256])"
      ]
     },
     "execution_count": 8,
     "metadata": {},
     "output_type": "execute_result"
    }
   ],
   "source": [
    "out = inception(data)\n",
    "out.shape"
   ]
  },
  {
   "cell_type": "code",
   "execution_count": null,
   "metadata": {},
   "outputs": [],
   "source": []
  }
 ],
 "metadata": {
  "kernelspec": {
   "display_name": "Python 3",
   "language": "python",
   "name": "python3"
  },
  "language_info": {
   "codemirror_mode": {
    "name": "ipython",
    "version": 3
   },
   "file_extension": ".py",
   "mimetype": "text/x-python",
   "name": "python",
   "nbconvert_exporter": "python",
   "pygments_lexer": "ipython3",
   "version": "3.7.5rc1"
  }
 },
 "nbformat": 4,
 "nbformat_minor": 2
}
