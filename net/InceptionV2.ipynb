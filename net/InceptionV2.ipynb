{
 "cells": [
  {
   "cell_type": "code",
   "execution_count": 1,
   "metadata": {
    "ExecuteTime": {
     "end_time": "2020-01-10T03:51:37.942702Z",
     "start_time": "2020-01-10T03:51:37.938978Z"
    }
   },
   "outputs": [],
   "source": [
    "import torch\n",
    "from torch import nn\n",
    "import torch.nn.functional as F"
   ]
  },
  {
   "cell_type": "code",
   "execution_count": 4,
   "metadata": {
    "ExecuteTime": {
     "end_time": "2020-01-10T03:55:07.267885Z",
     "start_time": "2020-01-10T03:55:07.260903Z"
    }
   },
   "outputs": [],
   "source": [
    "class BasicConv2d(nn.Module):\n",
    "    def __init__(self, in_channels, out_channels, kernel_size, padding=0):\n",
    "        super(BasicConv2d, self).__init__()\n",
    "        self.conv = nn.Conv2d(in_channels, out_channels, kernel_size, padding=padding)\n",
    "        self.bn = nn.BatchNorm2d(out_channels, eps=.001)\n",
    "        \n",
    "    def forward(self, x):\n",
    "        x = self.conv(x)\n",
    "        x = self.bn(x)\n",
    "        return F.relu(x, inplace=True)"
   ]
  },
  {
   "cell_type": "code",
   "execution_count": 6,
   "metadata": {
    "ExecuteTime": {
     "end_time": "2020-01-10T04:03:04.036981Z",
     "start_time": "2020-01-10T04:03:04.026010Z"
    }
   },
   "outputs": [],
   "source": [
    "class InceptionV2(nn.Module):\n",
    "    def __init__(self):\n",
    "        super(InceptionV2, self).__init__()\n",
    "        self.branch_1x1 = BasicConv2d(192, 96, 1)\n",
    "        self.branch_2x3 = nn.Sequential(\n",
    "            BasicConv2d(192, 48, 1),\n",
    "            BasicConv2d(48, 64, 3, 1)\n",
    "        )\n",
    "        self.branch_3x3 = nn.Sequential(\n",
    "            BasicConv2d(192, 64, 1),\n",
    "            BasicConv2d(64, 96, 3, 1),\n",
    "            BasicConv2d(96, 96, 3, 1)\n",
    "        )\n",
    "        self.branch_pooling = nn.Sequential(\n",
    "            nn.AvgPool2d(3, stride=1, padding=1, count_include_pad=False),\n",
    "            BasicConv2d(192, 64, 1)\n",
    "        )\n",
    "        \n",
    "    def forward(self, x):\n",
    "        b1 = self.branch_1x1(x)\n",
    "        b2 = self.branch_2x3(x)\n",
    "        b3 = self.branch_3x3(x)\n",
    "        b4 = self.branch_pooling(x)\n",
    "        out = torch.cat((b1, b2, b3, b4), dim=1)\n",
    "        return out"
   ]
  },
  {
   "cell_type": "code",
   "execution_count": 7,
   "metadata": {
    "ExecuteTime": {
     "end_time": "2020-01-10T04:03:21.727266Z",
     "start_time": "2020-01-10T04:03:21.691528Z"
    }
   },
   "outputs": [],
   "source": [
    "inception = InceptionV2()"
   ]
  },
  {
   "cell_type": "code",
   "execution_count": 10,
   "metadata": {
    "ExecuteTime": {
     "end_time": "2020-01-10T04:04:27.641856Z",
     "start_time": "2020-01-10T04:04:27.636869Z"
    }
   },
   "outputs": [],
   "source": [
    "data = torch.randn(1, 192, 32, 32)"
   ]
  },
  {
   "cell_type": "code",
   "execution_count": 11,
   "metadata": {
    "ExecuteTime": {
     "end_time": "2020-01-10T04:04:27.999497Z",
     "start_time": "2020-01-10T04:04:27.943648Z"
    }
   },
   "outputs": [
    {
     "data": {
      "text/plain": [
       "torch.Size([1, 320, 32, 32])"
      ]
     },
     "execution_count": 11,
     "metadata": {},
     "output_type": "execute_result"
    }
   ],
   "source": [
    "out = inception(data)\n",
    "out.shape"
   ]
  },
  {
   "cell_type": "code",
   "execution_count": null,
   "metadata": {},
   "outputs": [],
   "source": []
  },
  {
   "cell_type": "code",
   "execution_count": null,
   "metadata": {},
   "outputs": [],
   "source": []
  },
  {
   "cell_type": "code",
   "execution_count": null,
   "metadata": {},
   "outputs": [],
   "source": []
  },
  {
   "cell_type": "code",
   "execution_count": null,
   "metadata": {},
   "outputs": [],
   "source": []
  },
  {
   "cell_type": "code",
   "execution_count": null,
   "metadata": {},
   "outputs": [],
   "source": []
  }
 ],
 "metadata": {
  "kernelspec": {
   "display_name": "Python 3",
   "language": "python",
   "name": "python3"
  },
  "language_info": {
   "codemirror_mode": {
    "name": "ipython",
    "version": 3
   },
   "file_extension": ".py",
   "mimetype": "text/x-python",
   "name": "python",
   "nbconvert_exporter": "python",
   "pygments_lexer": "ipython3",
   "version": "3.7.5rc1"
  }
 },
 "nbformat": 4,
 "nbformat_minor": 2
}
