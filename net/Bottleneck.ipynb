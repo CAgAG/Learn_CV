{
 "cells": [
  {
   "cell_type": "code",
   "execution_count": 4,
   "metadata": {
    "ExecuteTime": {
     "end_time": "2020-01-10T04:19:23.556606Z",
     "start_time": "2020-01-10T04:19:23.552960Z"
    }
   },
   "outputs": [],
   "source": [
    "import torch\n",
    "from torch import nn\n",
    "import torch.nn.functional as F"
   ]
  },
  {
   "cell_type": "code",
   "execution_count": 6,
   "metadata": {
    "ExecuteTime": {
     "end_time": "2020-01-10T04:19:40.945259Z",
     "start_time": "2020-01-10T04:19:40.934290Z"
    }
   },
   "outputs": [],
   "source": [
    "class Botteleneck(nn.Module):\n",
    "    def __init__(self, in_dim, out_dim, strides=1):\n",
    "        super(Botteleneck, self).__init__()\n",
    "        self.bottleneck = nn.Sequential(\n",
    "            nn.Conv2d(in_dim, in_dim, 1, bias=False),\n",
    "            nn.BatchNorm2d(in_dim),\n",
    "            nn.ReLU(True),\n",
    "            nn.Conv2d(in_dim, in_dim, 3, strides, padding=1, bias=False),\n",
    "            nn.BatchNorm2d(in_dim),\n",
    "            nn.ReLU(True),\n",
    "            nn.Conv2d(in_dim, out_dim, 1, bias=False),\n",
    "            nn.BatchNorm2d(out_dim)\n",
    "        )\n",
    "        self.relu = nn.ReLU(True)\n",
    "        self.downsample = nn.Sequential(\n",
    "            nn.Conv2d(in_dim, out_dim, 1, 1),\n",
    "            nn.BatchNorm2d(out_dim)\n",
    "        )\n",
    "        \n",
    "    def forward(self, x):\n",
    "        identity = x\n",
    "        out = self.bottleneck(x)\n",
    "        identity = self.downsample(x)\n",
    "        out += identity\n",
    "        out = self.relu(out)\n",
    "        return out"
   ]
  },
  {
   "cell_type": "code",
   "execution_count": 7,
   "metadata": {
    "ExecuteTime": {
     "end_time": "2020-01-10T04:21:48.225493Z",
     "start_time": "2020-01-10T04:21:48.215522Z"
    }
   },
   "outputs": [],
   "source": [
    "bottleneck_1x1 = Botteleneck(64, 256)"
   ]
  },
  {
   "cell_type": "code",
   "execution_count": 8,
   "metadata": {
    "ExecuteTime": {
     "end_time": "2020-01-10T04:21:56.389381Z",
     "start_time": "2020-01-10T04:21:56.381370Z"
    }
   },
   "outputs": [
    {
     "data": {
      "text/plain": [
       "Botteleneck(\n",
       "  (bottleneck): Sequential(\n",
       "    (0): Conv2d(64, 64, kernel_size=(1, 1), stride=(1, 1), bias=False)\n",
       "    (1): BatchNorm2d(64, eps=1e-05, momentum=0.1, affine=True, track_running_stats=True)\n",
       "    (2): ReLU(inplace=True)\n",
       "    (3): Conv2d(64, 64, kernel_size=(3, 3), stride=(1, 1), padding=(1, 1), bias=False)\n",
       "    (4): BatchNorm2d(64, eps=1e-05, momentum=0.1, affine=True, track_running_stats=True)\n",
       "    (5): ReLU(inplace=True)\n",
       "    (6): Conv2d(64, 256, kernel_size=(1, 1), stride=(1, 1), bias=False)\n",
       "    (7): BatchNorm2d(256, eps=1e-05, momentum=0.1, affine=True, track_running_stats=True)\n",
       "  )\n",
       "  (relu): ReLU(inplace=True)\n",
       "  (downsample): Sequential(\n",
       "    (0): Conv2d(64, 256, kernel_size=(1, 1), stride=(1, 1))\n",
       "    (1): BatchNorm2d(256, eps=1e-05, momentum=0.1, affine=True, track_running_stats=True)\n",
       "  )\n",
       ")"
      ]
     },
     "execution_count": 8,
     "metadata": {},
     "output_type": "execute_result"
    }
   ],
   "source": [
    "bottleneck_1x1"
   ]
  },
  {
   "cell_type": "code",
   "execution_count": 9,
   "metadata": {
    "ExecuteTime": {
     "end_time": "2020-01-10T04:22:32.034549Z",
     "start_time": "2020-01-10T04:22:32.029108Z"
    }
   },
   "outputs": [],
   "source": [
    "data = torch.randn(1, 64, 56, 56)"
   ]
  },
  {
   "cell_type": "code",
   "execution_count": 10,
   "metadata": {
    "ExecuteTime": {
     "end_time": "2020-01-10T04:22:46.276545Z",
     "start_time": "2020-01-10T04:22:46.226680Z"
    }
   },
   "outputs": [
    {
     "data": {
      "text/plain": [
       "torch.Size([1, 256, 56, 56])"
      ]
     },
     "execution_count": 10,
     "metadata": {},
     "output_type": "execute_result"
    }
   ],
   "source": [
    "out = bottleneck_1x1(data)\n",
    "out.shape"
   ]
  },
  {
   "cell_type": "code",
   "execution_count": null,
   "metadata": {},
   "outputs": [],
   "source": []
  }
 ],
 "metadata": {
  "kernelspec": {
   "display_name": "Python 3",
   "language": "python",
   "name": "python3"
  },
  "language_info": {
   "codemirror_mode": {
    "name": "ipython",
    "version": 3
   },
   "file_extension": ".py",
   "mimetype": "text/x-python",
   "name": "python",
   "nbconvert_exporter": "python",
   "pygments_lexer": "ipython3",
   "version": "3.7.5rc1"
  }
 },
 "nbformat": 4,
 "nbformat_minor": 2
}
