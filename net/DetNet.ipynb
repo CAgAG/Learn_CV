{
 "cells": [
  {
   "cell_type": "code",
   "execution_count": 1,
   "metadata": {
    "ExecuteTime": {
     "end_time": "2020-01-10T14:07:03.041773Z",
     "start_time": "2020-01-10T14:07:03.037782Z"
    }
   },
   "outputs": [],
   "source": [
    "import torch\n",
    "from torch import nn\n",
    "import torch.nn.functional as F"
   ]
  },
  {
   "cell_type": "code",
   "execution_count": 2,
   "metadata": {
    "ExecuteTime": {
     "end_time": "2020-01-10T14:14:39.914598Z",
     "start_time": "2020-01-10T14:14:39.903594Z"
    }
   },
   "outputs": [],
   "source": [
    "class DetBottleneck(nn.Module):\n",
    "    # extra:False :A     True: B\n",
    "    def __init__(self, inplanes, planes, stride=1, extra=False):\n",
    "        super(DetBottleneck, self).__init__()\n",
    "        self.bottleneck = nn.Sequential(\n",
    "            nn.Conv2d(inplanes, planes, 1, bias=False),\n",
    "            nn.BatchNorm2d(planes),\n",
    "            nn.ReLU(True),\n",
    "            nn.Conv2d(planes, planes, kernel_size=3, stride=1, padding=2, dilation=2, bias=False),\n",
    "            nn.BatchNorm2d(planes),\n",
    "            nn.ReLU(True),\n",
    "            nn.Conv2d(planes, planes, 1, bias=False),\n",
    "            nn.BatchNorm2d(planes)\n",
    "        )\n",
    "        self.relu = nn.ReLU(True)\n",
    "        self.extra = extra\n",
    "        if self.extra:\n",
    "            self.extra_conv = nn.Sequential(\n",
    "                nn.Conv2d(inplanes, planes, 1, bias=False),\n",
    "                nn.BatchNorm2d(planes)\n",
    "            )\n",
    "    \n",
    "    def forward(self, x):\n",
    "        if self.extra:\n",
    "            identity = self.extra_conv(x)\n",
    "        else:\n",
    "            identity = x\n",
    "        out = self.bottleneck(x)\n",
    "        out += identity\n",
    "        out = self.relu(out)\n",
    "        return out"
   ]
  },
  {
   "cell_type": "code",
   "execution_count": 3,
   "metadata": {
    "ExecuteTime": {
     "end_time": "2020-01-10T14:16:41.271255Z",
     "start_time": "2020-01-10T14:16:41.257773Z"
    }
   },
   "outputs": [],
   "source": [
    "bottleneck_b = DetBottleneck(1024, 256, 1, True)"
   ]
  },
  {
   "cell_type": "code",
   "execution_count": 4,
   "metadata": {
    "ExecuteTime": {
     "end_time": "2020-01-10T14:16:45.854761Z",
     "start_time": "2020-01-10T14:16:45.845784Z"
    }
   },
   "outputs": [
    {
     "data": {
      "text/plain": [
       "DetBottleneck(\n",
       "  (bottleneck): Sequential(\n",
       "    (0): Conv2d(1024, 256, kernel_size=(1, 1), stride=(1, 1), bias=False)\n",
       "    (1): BatchNorm2d(256, eps=1e-05, momentum=0.1, affine=True, track_running_stats=True)\n",
       "    (2): ReLU(inplace=True)\n",
       "    (3): Conv2d(256, 256, kernel_size=(3, 3), stride=(1, 1), padding=(2, 2), dilation=(2, 2), bias=False)\n",
       "    (4): BatchNorm2d(256, eps=1e-05, momentum=0.1, affine=True, track_running_stats=True)\n",
       "    (5): ReLU(inplace=True)\n",
       "    (6): Conv2d(256, 256, kernel_size=(1, 1), stride=(1, 1), bias=False)\n",
       "    (7): BatchNorm2d(256, eps=1e-05, momentum=0.1, affine=True, track_running_stats=True)\n",
       "  )\n",
       "  (relu): ReLU(inplace=True)\n",
       "  (extra_conv): Sequential(\n",
       "    (0): Conv2d(1024, 256, kernel_size=(1, 1), stride=(1, 1), bias=False)\n",
       "    (1): BatchNorm2d(256, eps=1e-05, momentum=0.1, affine=True, track_running_stats=True)\n",
       "  )\n",
       ")"
      ]
     },
     "execution_count": 4,
     "metadata": {},
     "output_type": "execute_result"
    }
   ],
   "source": [
    "bottleneck_b"
   ]
  },
  {
   "cell_type": "code",
   "execution_count": 5,
   "metadata": {
    "ExecuteTime": {
     "end_time": "2020-01-10T14:17:39.846596Z",
     "start_time": "2020-01-10T14:17:39.830092Z"
    }
   },
   "outputs": [],
   "source": [
    "bottleneck_a1 = DetBottleneck(256, 256)\n",
    "bottleneck_a2 = DetBottleneck(256, 256)"
   ]
  },
  {
   "cell_type": "code",
   "execution_count": 6,
   "metadata": {
    "ExecuteTime": {
     "end_time": "2020-01-10T14:18:03.261814Z",
     "start_time": "2020-01-10T14:18:03.255804Z"
    }
   },
   "outputs": [],
   "source": [
    "data = torch.randn(1, 1024, 14, 14)"
   ]
  },
  {
   "cell_type": "code",
   "execution_count": 10,
   "metadata": {
    "ExecuteTime": {
     "end_time": "2020-01-10T14:18:44.582314Z",
     "start_time": "2020-01-10T14:18:44.560256Z"
    }
   },
   "outputs": [
    {
     "data": {
      "text/plain": [
       "torch.Size([1, 256, 14, 14])"
      ]
     },
     "execution_count": 10,
     "metadata": {},
     "output_type": "execute_result"
    }
   ],
   "source": [
    "o1 = bottleneck_b(data)\n",
    "o1.shape"
   ]
  },
  {
   "cell_type": "code",
   "execution_count": 11,
   "metadata": {
    "ExecuteTime": {
     "end_time": "2020-01-10T14:18:59.665059Z",
     "start_time": "2020-01-10T14:18:59.650515Z"
    }
   },
   "outputs": [
    {
     "data": {
      "text/plain": [
       "torch.Size([1, 256, 14, 14])"
      ]
     },
     "execution_count": 11,
     "metadata": {},
     "output_type": "execute_result"
    }
   ],
   "source": [
    "o2 = bottleneck_a1(o1)\n",
    "o2.shape"
   ]
  },
  {
   "cell_type": "code",
   "execution_count": 12,
   "metadata": {
    "ExecuteTime": {
     "end_time": "2020-01-10T14:19:16.812194Z",
     "start_time": "2020-01-10T14:19:16.795154Z"
    }
   },
   "outputs": [
    {
     "data": {
      "text/plain": [
       "torch.Size([1, 256, 14, 14])"
      ]
     },
     "execution_count": 12,
     "metadata": {},
     "output_type": "execute_result"
    }
   ],
   "source": [
    "o3 = bottleneck_a2(o2)\n",
    "o3.shape"
   ]
  },
  {
   "cell_type": "code",
   "execution_count": null,
   "metadata": {},
   "outputs": [],
   "source": []
  }
 ],
 "metadata": {
  "kernelspec": {
   "display_name": "Python 3",
   "language": "python",
   "name": "python3"
  },
  "language_info": {
   "codemirror_mode": {
    "name": "ipython",
    "version": 3
   },
   "file_extension": ".py",
   "mimetype": "text/x-python",
   "name": "python",
   "nbconvert_exporter": "python",
   "pygments_lexer": "ipython3",
   "version": "3.7.5rc1"
  }
 },
 "nbformat": 4,
 "nbformat_minor": 2
}
