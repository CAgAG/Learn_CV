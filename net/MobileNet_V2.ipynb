{
 "cells": [
  {
   "cell_type": "code",
   "execution_count": 1,
   "metadata": {
    "ExecuteTime": {
     "end_time": "2020-01-12T07:54:40.170272Z",
     "start_time": "2020-01-12T07:54:39.558707Z"
    }
   },
   "outputs": [],
   "source": [
    "import torch\n",
    "from torch import nn"
   ]
  },
  {
   "cell_type": "code",
   "execution_count": 2,
   "metadata": {
    "ExecuteTime": {
     "end_time": "2020-01-12T08:03:59.508085Z",
     "start_time": "2020-01-12T08:03:59.498444Z"
    }
   },
   "outputs": [],
   "source": [
    "class InvertedResidual(nn.Module):\n",
    "    def __init__(self, inp, outp, stride, expand_ratio):\n",
    "        super(InvertedResidual, self).__init__()\n",
    "        self.stride = stride\n",
    "        hid_dim = round(inp * expand_ratio)\n",
    "        self.conv = nn.Sequential(\n",
    "            # 1x1 升维\n",
    "            nn.Conv2d(inp, hid_dim, 1, 1, 0, bias=False),\n",
    "            nn.BatchNorm2d(hid_dim),\n",
    "            nn.ReLU6(hid_dim),\n",
    "            # dw\n",
    "            nn.Conv2d(hid_dim, hid_dim, 3, stride, 1, groups=hid_dim, bias=False),\n",
    "            nn.BatchNorm2d(hid_dim),\n",
    "            nn.ReLU6(hid_dim),\n",
    "            # 1x1 降维\n",
    "            nn.Conv2d(hid_dim, outp, 1, 1, 0, bias=False),\n",
    "            nn.BatchNorm2d(outp)\n",
    "        )\n",
    "        \n",
    "    def forward(self, x):\n",
    "        return x + self.conv(x)"
   ]
  },
  {
   "cell_type": "code",
   "execution_count": 5,
   "metadata": {
    "ExecuteTime": {
     "end_time": "2020-01-12T08:05:15.492816Z",
     "start_time": "2020-01-12T08:05:15.484209Z"
    }
   },
   "outputs": [],
   "source": [
    "mobileNet_v2_block = InvertedResidual(24, 24, 1, 6)"
   ]
  },
  {
   "cell_type": "code",
   "execution_count": 6,
   "metadata": {
    "ExecuteTime": {
     "end_time": "2020-01-12T08:05:15.943610Z",
     "start_time": "2020-01-12T08:05:15.936331Z"
    }
   },
   "outputs": [
    {
     "data": {
      "text/plain": [
       "InvertedResidual(\n",
       "  (conv): Sequential(\n",
       "    (0): Conv2d(24, 144, kernel_size=(1, 1), stride=(1, 1), bias=False)\n",
       "    (1): BatchNorm2d(144, eps=1e-05, momentum=0.1, affine=True, track_running_stats=True)\n",
       "    (2): ReLU6(inplace=True)\n",
       "    (3): Conv2d(144, 144, kernel_size=(3, 3), stride=(1, 1), padding=(1, 1), groups=144, bias=False)\n",
       "    (4): BatchNorm2d(144, eps=1e-05, momentum=0.1, affine=True, track_running_stats=True)\n",
       "    (5): ReLU6(inplace=True)\n",
       "    (6): Conv2d(144, 24, kernel_size=(1, 1), stride=(1, 1), bias=False)\n",
       "    (7): BatchNorm2d(24, eps=1e-05, momentum=0.1, affine=True, track_running_stats=True)\n",
       "  )\n",
       ")"
      ]
     },
     "execution_count": 6,
     "metadata": {},
     "output_type": "execute_result"
    }
   ],
   "source": [
    "mobileNet_v2_block"
   ]
  },
  {
   "cell_type": "code",
   "execution_count": 7,
   "metadata": {
    "ExecuteTime": {
     "end_time": "2020-01-12T08:05:36.675921Z",
     "start_time": "2020-01-12T08:05:36.604235Z"
    }
   },
   "outputs": [
    {
     "data": {
      "text/plain": [
       "torch.Size([1, 24, 56, 56])"
      ]
     },
     "execution_count": 7,
     "metadata": {},
     "output_type": "execute_result"
    }
   ],
   "source": [
    "data = torch.randn(1, 24, 56, 56)\n",
    "out = mobileNet_v2_block(data)\n",
    "out.shape"
   ]
  },
  {
   "cell_type": "code",
   "execution_count": null,
   "metadata": {},
   "outputs": [],
   "source": []
  }
 ],
 "metadata": {
  "kernelspec": {
   "display_name": "Python 3",
   "language": "python",
   "name": "python3"
  },
  "language_info": {
   "codemirror_mode": {
    "name": "ipython",
    "version": 3
   },
   "file_extension": ".py",
   "mimetype": "text/x-python",
   "name": "python",
   "nbconvert_exporter": "python",
   "pygments_lexer": "ipython3",
   "version": "3.7.5rc1"
  }
 },
 "nbformat": 4,
 "nbformat_minor": 2
}
