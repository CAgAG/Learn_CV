{
 "cells": [
  {
   "cell_type": "code",
   "execution_count": 2,
   "metadata": {
    "ExecuteTime": {
     "end_time": "2020-01-10T03:13:06.552359Z",
     "start_time": "2020-01-10T03:13:06.549278Z"
    }
   },
   "outputs": [],
   "source": [
    "import torch\n",
    "from torch import nn"
   ]
  },
  {
   "cell_type": "code",
   "execution_count": 5,
   "metadata": {
    "ExecuteTime": {
     "end_time": "2020-01-10T03:25:56.373305Z",
     "start_time": "2020-01-10T03:25:56.362301Z"
    }
   },
   "outputs": [],
   "source": [
    "class VGG16(nn.Module):\n",
    "    def __init__(self, num_classes=1000, in_dim=3, out_dim=64):\n",
    "        super(VGG16, self).__init__()\n",
    "        layers = []\n",
    "        after_pooling_layer = [1, 3, 6, 9, 12]\n",
    "        \n",
    "        for i in range(13):\n",
    "            layers += [nn.Conv2d(in_dim, out_dim, 3, 1, 1), nn.ReLU(True)]\n",
    "            in_dim = out_dim\n",
    "            if i in after_pooling_layer:\n",
    "                layers += [nn.MaxPool2d(2, 2)]\n",
    "                if i != 9:\n",
    "                    out_dim *= 2\n",
    "        self.features = nn.Sequential(*layers)\n",
    "        self.classifier = nn.Sequential(\n",
    "            nn.Linear(512 * 7 * 7, 4096),\n",
    "            nn.ReLU(True),\n",
    "            nn.Dropout(),\n",
    "            nn.Linear(4096, 4096),\n",
    "            nn.ReLU(True),\n",
    "            nn.Dropout(),\n",
    "            nn.Linear(4096, num_classes)\n",
    "        )\n",
    "        \n",
    "    def forward(self, x):\n",
    "        x = self.features(x)\n",
    "        x = x.view(x.size(0), -1)\n",
    "        x = self.classifier(x)\n",
    "        return x"
   ]
  },
  {
   "cell_type": "code",
   "execution_count": 6,
   "metadata": {
    "ExecuteTime": {
     "end_time": "2020-01-10T03:25:57.706387Z",
     "start_time": "2020-01-10T03:25:56.880490Z"
    }
   },
   "outputs": [],
   "source": [
    "vgg16 = VGG16(16)"
   ]
  },
  {
   "cell_type": "code",
   "execution_count": 9,
   "metadata": {
    "ExecuteTime": {
     "end_time": "2020-01-10T03:29:57.924805Z",
     "start_time": "2020-01-10T03:29:57.914833Z"
    },
    "collapsed": true
   },
   "outputs": [
    {
     "data": {
      "text/plain": [
       "tensor([[[[ 0.2677,  0.1732, -1.8775,  ..., -0.9409,  1.4635, -0.5504],\n",
       "          [ 0.6723, -1.0612, -0.1301,  ..., -1.8917,  0.4308,  1.8051],\n",
       "          [ 1.4261,  0.6323, -1.2422,  ..., -2.2103,  1.7538,  0.5759],\n",
       "          ...,\n",
       "          [ 0.5841, -0.1792,  0.6278,  ...,  0.1954,  0.3507, -1.9587],\n",
       "          [-0.1245,  0.7823,  0.3348,  ...,  1.1872,  0.5753, -1.5107],\n",
       "          [ 0.5863, -0.0193,  0.9716,  ..., -0.9607, -0.4313,  0.8594]],\n",
       "\n",
       "         [[ 0.3183,  0.5673,  0.1416,  ...,  0.1734,  0.5509, -0.4871],\n",
       "          [ 0.6751, -0.2481, -0.0285,  ...,  1.8531, -0.3634,  1.1650],\n",
       "          [ 0.5708,  0.8655,  0.6483,  ...,  0.1615, -0.3184, -1.1295],\n",
       "          ...,\n",
       "          [-0.1716,  0.9884, -0.0139,  ..., -1.2995, -1.1654,  0.6814],\n",
       "          [-1.0357,  0.8868,  0.6473,  ...,  0.4091, -1.8977, -0.8633],\n",
       "          [-1.6397,  0.5841, -1.1840,  ..., -0.5107,  0.7825,  0.8843]],\n",
       "\n",
       "         [[-0.5512,  0.2880, -2.8168,  ..., -0.6765,  0.3979,  0.0581],\n",
       "          [-0.2972, -0.1838,  1.0631,  ..., -1.0673,  1.4487, -0.8224],\n",
       "          [ 1.0280, -1.5276,  0.8210,  ..., -0.1018, -1.4296,  0.9894],\n",
       "          ...,\n",
       "          [ 0.6017,  0.4561,  0.4212,  ...,  0.6386, -0.3053,  0.5031],\n",
       "          [ 1.3971,  0.2239,  0.2532,  ..., -1.4546,  0.6049,  0.5177],\n",
       "          [-0.8166, -0.2703, -0.1197,  ..., -0.7310,  0.3324, -1.0485]]]])"
      ]
     },
     "execution_count": 9,
     "metadata": {},
     "output_type": "execute_result"
    }
   ],
   "source": [
    "data = torch.randn(1, 3, 224, 224)\n",
    "data"
   ]
  },
  {
   "cell_type": "code",
   "execution_count": 10,
   "metadata": {
    "ExecuteTime": {
     "end_time": "2020-01-10T03:29:59.831256Z",
     "start_time": "2020-01-10T03:29:59.052256Z"
    }
   },
   "outputs": [
    {
     "data": {
      "text/plain": [
       "tensor([[ 0.0135,  0.0004, -0.0100, -0.0055,  0.0079,  0.0131,  0.0006, -0.0099,\n",
       "         -0.0117, -0.0074, -0.0141, -0.0024, -0.0080, -0.0014,  0.0014,  0.0121]],\n",
       "       grad_fn=<AddmmBackward>)"
      ]
     },
     "execution_count": 10,
     "metadata": {},
     "output_type": "execute_result"
    }
   ],
   "source": [
    "scores = vgg16(data)\n",
    "scores"
   ]
  },
  {
   "cell_type": "code",
   "execution_count": 11,
   "metadata": {
    "ExecuteTime": {
     "end_time": "2020-01-10T03:30:19.093597Z",
     "start_time": "2020-01-10T03:30:19.087611Z"
    }
   },
   "outputs": [
    {
     "data": {
      "text/plain": [
       "torch.Size([1, 16])"
      ]
     },
     "execution_count": 11,
     "metadata": {},
     "output_type": "execute_result"
    }
   ],
   "source": [
    "scores.shape"
   ]
  },
  {
   "cell_type": "code",
   "execution_count": 14,
   "metadata": {
    "ExecuteTime": {
     "end_time": "2020-01-10T03:31:15.050270Z",
     "start_time": "2020-01-10T03:31:14.254387Z"
    }
   },
   "outputs": [
    {
     "data": {
      "text/plain": [
       "torch.Size([1, 512, 7, 7])"
      ]
     },
     "execution_count": 14,
     "metadata": {},
     "output_type": "execute_result"
    }
   ],
   "source": [
    "features = vgg16.features(data)\n",
    "features.shape"
   ]
  },
  {
   "cell_type": "code",
   "execution_count": 15,
   "metadata": {
    "ExecuteTime": {
     "end_time": "2020-01-10T03:31:31.908974Z",
     "start_time": "2020-01-10T03:31:31.902991Z"
    }
   },
   "outputs": [
    {
     "data": {
      "text/plain": [
       "Sequential(\n",
       "  (0): Conv2d(3, 64, kernel_size=(3, 3), stride=(1, 1), padding=(1, 1))\n",
       "  (1): ReLU(inplace=True)\n",
       "  (2): Conv2d(64, 64, kernel_size=(3, 3), stride=(1, 1), padding=(1, 1))\n",
       "  (3): ReLU(inplace=True)\n",
       "  (4): MaxPool2d(kernel_size=2, stride=2, padding=0, dilation=1, ceil_mode=False)\n",
       "  (5): Conv2d(64, 128, kernel_size=(3, 3), stride=(1, 1), padding=(1, 1))\n",
       "  (6): ReLU(inplace=True)\n",
       "  (7): Conv2d(128, 128, kernel_size=(3, 3), stride=(1, 1), padding=(1, 1))\n",
       "  (8): ReLU(inplace=True)\n",
       "  (9): MaxPool2d(kernel_size=2, stride=2, padding=0, dilation=1, ceil_mode=False)\n",
       "  (10): Conv2d(128, 256, kernel_size=(3, 3), stride=(1, 1), padding=(1, 1))\n",
       "  (11): ReLU(inplace=True)\n",
       "  (12): Conv2d(256, 256, kernel_size=(3, 3), stride=(1, 1), padding=(1, 1))\n",
       "  (13): ReLU(inplace=True)\n",
       "  (14): Conv2d(256, 256, kernel_size=(3, 3), stride=(1, 1), padding=(1, 1))\n",
       "  (15): ReLU(inplace=True)\n",
       "  (16): MaxPool2d(kernel_size=2, stride=2, padding=0, dilation=1, ceil_mode=False)\n",
       "  (17): Conv2d(256, 512, kernel_size=(3, 3), stride=(1, 1), padding=(1, 1))\n",
       "  (18): ReLU(inplace=True)\n",
       "  (19): Conv2d(512, 512, kernel_size=(3, 3), stride=(1, 1), padding=(1, 1))\n",
       "  (20): ReLU(inplace=True)\n",
       "  (21): Conv2d(512, 512, kernel_size=(3, 3), stride=(1, 1), padding=(1, 1))\n",
       "  (22): ReLU(inplace=True)\n",
       "  (23): MaxPool2d(kernel_size=2, stride=2, padding=0, dilation=1, ceil_mode=False)\n",
       "  (24): Conv2d(512, 512, kernel_size=(3, 3), stride=(1, 1), padding=(1, 1))\n",
       "  (25): ReLU(inplace=True)\n",
       "  (26): Conv2d(512, 512, kernel_size=(3, 3), stride=(1, 1), padding=(1, 1))\n",
       "  (27): ReLU(inplace=True)\n",
       "  (28): Conv2d(512, 512, kernel_size=(3, 3), stride=(1, 1), padding=(1, 1))\n",
       "  (29): ReLU(inplace=True)\n",
       "  (30): MaxPool2d(kernel_size=2, stride=2, padding=0, dilation=1, ceil_mode=False)\n",
       ")"
      ]
     },
     "execution_count": 15,
     "metadata": {},
     "output_type": "execute_result"
    }
   ],
   "source": [
    "vgg16.features"
   ]
  },
  {
   "cell_type": "code",
   "execution_count": null,
   "metadata": {},
   "outputs": [],
   "source": []
  }
 ],
 "metadata": {
  "kernelspec": {
   "display_name": "Python 3",
   "language": "python",
   "name": "python3"
  },
  "language_info": {
   "codemirror_mode": {
    "name": "ipython",
    "version": 3
   },
   "file_extension": ".py",
   "mimetype": "text/x-python",
   "name": "python",
   "nbconvert_exporter": "python",
   "pygments_lexer": "ipython3",
   "version": "3.7.5rc1"
  }
 },
 "nbformat": 4,
 "nbformat_minor": 2
}
