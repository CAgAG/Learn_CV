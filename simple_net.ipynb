{
 "cells": [
  {
   "cell_type": "code",
   "execution_count": 18,
   "metadata": {
    "ExecuteTime": {
     "end_time": "2020-01-08T11:55:27.793166Z",
     "start_time": "2020-01-08T11:55:27.781181Z"
    }
   },
   "outputs": [],
   "source": [
    "import torch\n",
    "from torch import nn"
   ]
  },
  {
   "cell_type": "code",
   "execution_count": 19,
   "metadata": {
    "ExecuteTime": {
     "end_time": "2020-01-08T11:55:27.824528Z",
     "start_time": "2020-01-08T11:55:27.796054Z"
    }
   },
   "outputs": [],
   "source": [
    "class Linear(nn.Module):\n",
    "    # y = wx + b\n",
    "    def __init__(self, in_dim, out_dim):\n",
    "        super(Linear, self).__init__()\n",
    "        self.w = nn.Parameter(torch.randn(in_dim, out_dim))\n",
    "        self.b = nn.Parameter(torch.randn(out_dim))\n",
    "    \n",
    "    def forward(self, x):\n",
    "        x = x.matmul(self.w)\n",
    "        y = x + self.b.expand_as(x)\n",
    "        return y"
   ]
  },
  {
   "cell_type": "code",
   "execution_count": 20,
   "metadata": {
    "ExecuteTime": {
     "end_time": "2020-01-08T11:55:27.840081Z",
     "start_time": "2020-01-08T11:55:27.825528Z"
    }
   },
   "outputs": [],
   "source": [
    "class Perception(nn.Module):\n",
    "    def __init__(self, in_dim, hid_dim, out_dim):\n",
    "        super(Perception, self).__init__()\n",
    "        self.layer1 = Linear(in_dim, hid_dim)\n",
    "        self.layer2 = Linear(hid_dim, out_dim)\n",
    "    \n",
    "    def forward(self, x):\n",
    "        x = self.layer1(x)\n",
    "        y = torch.sigmoid(x)\n",
    "        y = self.layer2(y)\n",
    "        y = torch.sigmoid(y)\n",
    "        return y"
   ]
  },
  {
   "cell_type": "code",
   "execution_count": 21,
   "metadata": {
    "ExecuteTime": {
     "end_time": "2020-01-08T11:55:27.860515Z",
     "start_time": "2020-01-08T11:55:27.842128Z"
    }
   },
   "outputs": [],
   "source": [
    "perception = Perception(2, 3, 2)"
   ]
  },
  {
   "cell_type": "code",
   "execution_count": 22,
   "metadata": {
    "ExecuteTime": {
     "end_time": "2020-01-08T11:55:27.876047Z",
     "start_time": "2020-01-08T11:55:27.862131Z"
    }
   },
   "outputs": [
    {
     "data": {
      "text/plain": [
       "Perception(\n",
       "  (layer1): Linear()\n",
       "  (layer2): Linear()\n",
       ")"
      ]
     },
     "execution_count": 22,
     "metadata": {},
     "output_type": "execute_result"
    }
   ],
   "source": [
    "perception"
   ]
  },
  {
   "cell_type": "code",
   "execution_count": 23,
   "metadata": {
    "ExecuteTime": {
     "end_time": "2020-01-08T11:55:27.910446Z",
     "start_time": "2020-01-08T11:55:27.880036Z"
    }
   },
   "outputs": [
    {
     "name": "stdout",
     "output_type": "stream",
     "text": [
      "name: layer1.w, parameter: Parameter containing:\n",
      "tensor([[ 0.2676, -0.3342,  0.5117],\n",
      "        [-0.1016,  1.2790,  1.4075]], requires_grad=True)\n",
      "name: layer1.b, parameter: Parameter containing:\n",
      "tensor([-0.7289,  0.9349,  0.3367], requires_grad=True)\n",
      "name: layer2.w, parameter: Parameter containing:\n",
      "tensor([[-0.6178,  0.3433],\n",
      "        [ 1.1033, -1.4031],\n",
      "        [-0.2202, -1.4048]], requires_grad=True)\n",
      "name: layer2.b, parameter: Parameter containing:\n",
      "tensor([-0.1971,  3.1075], requires_grad=True)\n"
     ]
    }
   ],
   "source": [
    "for name, parameter in perception.named_parameters():\n",
    "    print(f'name: {name}, parameter: {parameter}')"
   ]
  },
  {
   "cell_type": "code",
   "execution_count": 24,
   "metadata": {
    "ExecuteTime": {
     "end_time": "2020-01-08T11:55:27.926457Z",
     "start_time": "2020-01-08T11:55:27.912441Z"
    }
   },
   "outputs": [
    {
     "data": {
      "text/plain": [
       "tensor([[ 0.7602, -0.5524],\n",
       "        [ 0.3414,  0.3066],\n",
       "        [-0.9396, -0.1493],\n",
       "        [-0.2099, -0.4687]])"
      ]
     },
     "execution_count": 24,
     "metadata": {},
     "output_type": "execute_result"
    }
   ],
   "source": [
    "data = torch.randn(4, 2)\n",
    "data"
   ]
  },
  {
   "cell_type": "code",
   "execution_count": 25,
   "metadata": {
    "ExecuteTime": {
     "end_time": "2020-01-08T11:55:27.941917Z",
     "start_time": "2020-01-08T11:55:27.930247Z"
    }
   },
   "outputs": [],
   "source": [
    "out = perception(data)"
   ]
  },
  {
   "cell_type": "code",
   "execution_count": 26,
   "metadata": {
    "ExecuteTime": {
     "end_time": "2020-01-08T11:55:27.958414Z",
     "start_time": "2020-01-08T11:55:27.943984Z"
    }
   },
   "outputs": [
    {
     "data": {
      "text/plain": [
       "tensor([[0.5006, 0.8656],\n",
       "        [0.5709, 0.7561],\n",
       "        [0.5892, 0.8294],\n",
       "        [0.5444, 0.8609]], grad_fn=<SigmoidBackward>)"
      ]
     },
     "execution_count": 26,
     "metadata": {},
     "output_type": "execute_result"
    }
   ],
   "source": [
    "out"
   ]
  },
  {
   "cell_type": "code",
   "execution_count": 27,
   "metadata": {
    "ExecuteTime": {
     "end_time": "2020-01-08T11:55:27.974047Z",
     "start_time": "2020-01-08T11:55:27.961150Z"
    }
   },
   "outputs": [
    {
     "data": {
      "text/plain": [
       "tensor([[0.5006, 0.8656],\n",
       "        [0.5709, 0.7561],\n",
       "        [0.5892, 0.8294],\n",
       "        [0.5444, 0.8609]])"
      ]
     },
     "execution_count": 27,
     "metadata": {},
     "output_type": "execute_result"
    }
   ],
   "source": [
    "out.detach()"
   ]
  },
  {
   "cell_type": "code",
   "execution_count": 28,
   "metadata": {
    "ExecuteTime": {
     "end_time": "2020-01-08T11:55:27.989991Z",
     "start_time": "2020-01-08T11:55:27.976074Z"
    }
   },
   "outputs": [
    {
     "data": {
      "text/plain": [
       "<SigmoidBackward at 0x1477dcb0948>"
      ]
     },
     "execution_count": 28,
     "metadata": {},
     "output_type": "execute_result"
    }
   ],
   "source": [
    "out.grad_fn"
   ]
  },
  {
   "cell_type": "code",
   "execution_count": null,
   "metadata": {},
   "outputs": [],
   "source": []
  },
  {
   "cell_type": "code",
   "execution_count": 30,
   "metadata": {
    "ExecuteTime": {
     "end_time": "2020-01-08T11:58:05.845227Z",
     "start_time": "2020-01-08T11:58:05.821113Z"
    }
   },
   "outputs": [],
   "source": [
    "class Perception(nn.Module):\n",
    "    def __init__(self, in_dim, hid_dim, out_dim):\n",
    "        super(Perception, self).__init__()\n",
    "        self.layer = nn.Sequential(\n",
    "            Linear(in_dim, hid_dim),\n",
    "            nn.Sigmoid(),\n",
    "            Linear(hid_dim, out_dim),\n",
    "            nn.Sigmoid()\n",
    "        )\n",
    "    \n",
    "    def forward(self, x):\n",
    "        y = self.layer(x)\n",
    "        return x"
   ]
  },
  {
   "cell_type": "code",
   "execution_count": 31,
   "metadata": {
    "ExecuteTime": {
     "end_time": "2020-01-08T11:58:40.121324Z",
     "start_time": "2020-01-08T11:58:33.669709Z"
    }
   },
   "outputs": [],
   "source": [
    "model = Perception(100, 1000, 10).cuda()"
   ]
  },
  {
   "cell_type": "code",
   "execution_count": 32,
   "metadata": {
    "ExecuteTime": {
     "end_time": "2020-01-08T11:58:42.352613Z",
     "start_time": "2020-01-08T11:58:42.338141Z"
    }
   },
   "outputs": [
    {
     "data": {
      "text/plain": [
       "Perception(\n",
       "  (layer): Sequential(\n",
       "    (0): Linear()\n",
       "    (1): Sigmoid()\n",
       "    (2): Linear()\n",
       "    (3): Sigmoid()\n",
       "  )\n",
       ")"
      ]
     },
     "execution_count": 32,
     "metadata": {},
     "output_type": "execute_result"
    }
   ],
   "source": [
    "model"
   ]
  },
  {
   "cell_type": "code",
   "execution_count": 39,
   "metadata": {
    "ExecuteTime": {
     "end_time": "2020-01-08T12:01:23.467763Z",
     "start_time": "2020-01-08T12:01:22.738774Z"
    }
   },
   "outputs": [],
   "source": [
    "data = torch.randn(100).cuda()"
   ]
  },
  {
   "cell_type": "code",
   "execution_count": 40,
   "metadata": {
    "ExecuteTime": {
     "end_time": "2020-01-08T12:01:24.977694Z",
     "start_time": "2020-01-08T12:01:24.084923Z"
    }
   },
   "outputs": [],
   "source": [
    "out = model(data)"
   ]
  },
  {
   "cell_type": "code",
   "execution_count": 41,
   "metadata": {
    "ExecuteTime": {
     "end_time": "2020-01-08T12:01:26.603096Z",
     "start_time": "2020-01-08T12:01:26.564166Z"
    }
   },
   "outputs": [
    {
     "data": {
      "text/plain": [
       "tensor([ 8.5738e-01, -1.0528e+00, -2.1495e+00,  1.5033e+00, -4.1807e-01,\n",
       "         3.8394e-01,  6.4068e-01, -1.5589e-01, -5.9191e-01, -3.6435e-01,\n",
       "        -7.3422e-01, -2.9891e-01,  6.3815e-01,  1.8540e+00, -5.4919e-01,\n",
       "         8.1691e-01, -8.0972e-03,  1.9923e-01,  6.1462e-01,  9.9960e-01,\n",
       "         8.5726e-01, -7.7424e-01, -6.1987e-01, -6.4704e-02, -4.2537e-01,\n",
       "         1.6725e+00,  4.4642e-01, -7.0841e-01, -1.0394e+00,  1.3815e-01,\n",
       "        -1.3225e+00,  1.0190e+00, -1.8861e+00,  8.8450e-01, -1.3578e+00,\n",
       "        -1.3768e+00,  4.5914e-01, -1.9178e+00,  5.6636e-01,  1.5538e+00,\n",
       "         5.5115e-01, -3.8460e-02,  7.7326e-01,  6.1811e-01, -1.6003e+00,\n",
       "         4.0716e-01, -3.1748e-01, -1.0143e+00,  1.0260e+00, -1.3431e-02,\n",
       "        -1.5298e+00,  4.0522e-04, -9.0276e-01, -4.5830e-02, -1.6845e+00,\n",
       "        -2.3788e-01, -4.2126e-02,  5.0658e-01, -8.0982e-01, -4.1677e-01,\n",
       "         4.6649e-01, -6.7815e-01,  2.5337e-02, -4.6371e-01, -6.7439e-01,\n",
       "        -2.2401e+00, -1.6220e+00, -7.6685e-01, -5.1280e-01,  3.2120e-02,\n",
       "         1.4213e+00,  9.0632e-02, -6.4212e-01, -8.1605e-02,  1.5418e-01,\n",
       "        -2.1776e+00,  2.3122e+00,  1.4056e+00,  6.9983e-01,  1.6101e-01,\n",
       "         1.3809e+00,  4.8503e-01, -7.8763e-01, -1.5833e-01,  1.9753e+00,\n",
       "        -1.3661e+00, -1.4206e+00, -1.3529e+00, -1.6004e+00,  9.7305e-01,\n",
       "         3.1492e-01,  3.5516e-01, -1.0138e+00, -1.5500e+00, -3.2340e-02,\n",
       "        -2.0195e-01, -9.9586e-01, -1.3728e+00,  5.8654e-01,  5.1521e-01],\n",
       "       device='cuda:0')"
      ]
     },
     "execution_count": 41,
     "metadata": {},
     "output_type": "execute_result"
    }
   ],
   "source": [
    "out"
   ]
  },
  {
   "cell_type": "code",
   "execution_count": null,
   "metadata": {},
   "outputs": [],
   "source": []
  }
 ],
 "metadata": {
  "kernelspec": {
   "display_name": "Python 3",
   "language": "python",
   "name": "python3"
  },
  "language_info": {
   "codemirror_mode": {
    "name": "ipython",
    "version": 3
   },
   "file_extension": ".py",
   "mimetype": "text/x-python",
   "name": "python",
   "nbconvert_exporter": "python",
   "pygments_lexer": "ipython3",
   "version": "3.7.5rc1"
  }
 },
 "nbformat": 4,
 "nbformat_minor": 2
}
