{
 "cells": [
  {
   "cell_type": "code",
   "execution_count": 2,
   "metadata": {
    "ExecuteTime": {
     "end_time": "2020-01-10T12:32:05.361292Z",
     "start_time": "2020-01-10T12:32:05.358044Z"
    }
   },
   "outputs": [],
   "source": [
    "import torch\n",
    "from torch import nn\n",
    "import torch.nn.functional as F"
   ]
  },
  {
   "cell_type": "code",
   "execution_count": 16,
   "metadata": {
    "ExecuteTime": {
     "end_time": "2020-01-10T13:15:13.915568Z",
     "start_time": "2020-01-10T13:15:13.908081Z"
    }
   },
   "outputs": [],
   "source": [
    "# ResNet\n",
    "class Bottleneck(nn.Module):\n",
    "    expansion = 4\n",
    "    def __init__(self, in_planes, planes, stride=1, downsample=None):\n",
    "        super(Bottleneck, self).__init__()\n",
    "        self.bottleneck = nn.Sequential(\n",
    "            nn.Conv2d(in_planes, planes, kernel_size=1, bias=False),\n",
    "            nn.BatchNorm2d(planes),\n",
    "            nn.ReLU(True),\n",
    "            nn.Conv2d(planes, planes, kernel_size=3, stride=stride, padding=1, bias=False),\n",
    "            nn.BatchNorm2d(planes),\n",
    "            nn.ReLU(True),\n",
    "            nn.Conv2d(planes, self.expansion * planes, kernel_size=1, bias=False),\n",
    "            nn.BatchNorm2d(self.expansion * planes)\n",
    "        )\n",
    "        self.relu = nn.ReLU(True)\n",
    "        self.downsample = downsample\n",
    "    def forward(self, x):\n",
    "        identity = x\n",
    "        out = self.bottleneck(x)\n",
    "        if self.downsample is not None:\n",
    "            identity = self.downsample(x)\n",
    "        out += identity\n",
    "        out = self.relu(out)\n",
    "        return out"
   ]
  },
  {
   "cell_type": "code",
   "execution_count": 33,
   "metadata": {
    "ExecuteTime": {
     "end_time": "2020-01-10T13:26:41.963006Z",
     "start_time": "2020-01-10T13:26:41.945289Z"
    }
   },
   "outputs": [],
   "source": [
    "class FPN(nn.Module):\n",
    "        def __init__(self, layers):\n",
    "            super(FPN, self).__init__()\n",
    "            self.inplanes = 64\n",
    "            # c1\n",
    "            self.conv1 = nn.Conv2d(3, 64, 7, 2, 3, bias=False)\n",
    "            self.bn1 = nn.BatchNorm2d(64)\n",
    "            self.relu = nn.ReLU(True)\n",
    "            self.maxpooling = nn.MaxPool2d(kernel_size=3, stride=2, padding=1)\n",
    "            # 至上而下 c2, c3, c4, c5\n",
    "            self.layer1 = self._make_layer(64, layers[0])\n",
    "            self.layer2 = self._make_layer(128, layers[1], 2)\n",
    "            self.layer3 = self._make_layer(256, layers[2], 2)\n",
    "            self.layer4 = self._make_layer(512, layers[3], 2)\n",
    "            # p5\n",
    "            self.toplayer = nn.Conv2d(2048, 256, 1, 1, 0)\n",
    "            # 横向连接, 保证通道数一样\n",
    "            self.latlayer1 = nn.Conv2d(1024, 256, 1, 1, 0)\n",
    "            self.latlayer2 = nn.Conv2d(512, 256, 1, 1, 0)\n",
    "            self.latlayer3 = nn.Conv2d(256, 256, 1, 1, 0)\n",
    "            # 3x3 卷积融合特征\n",
    "            self.smooth = nn.Conv2d(256, 256, 3, 1, 1)\n",
    "            \n",
    "        def _make_layer(self, planes, blocks, strides=1):\n",
    "            dowmsample = None\n",
    "            if strides != 1 or self.inplanes != Bottleneck.expansion * planes:\n",
    "                dowmsample = nn.Sequential(\n",
    "                    nn.Conv2d(self.inplanes, Bottleneck.expansion * planes, 1, strides, bias=False),\n",
    "                    nn.BatchNorm2d(Bottleneck.expansion * planes)\n",
    "                )\n",
    "            layers = []\n",
    "            layers.append(Bottleneck(self.inplanes, planes, strides, dowmsample))\n",
    "            self.inplanes = Bottleneck.expansion * planes\n",
    "            for i in range(1, blocks):\n",
    "                layers.append(Bottleneck(self.inplanes, planes))\n",
    "            return nn.Sequential(*layers)\n",
    "        \n",
    "        def _upsample_add(self, x, y):\n",
    "            _, _, H, W = y.shape\n",
    "            return F.upsample(x, size=(H, W), mode='bilinear') + y\n",
    "        \n",
    "        def forward(self, x):\n",
    "            # 自下而上\n",
    "            c1 = self.maxpooling(self.relu(self.bn1(self.conv1(x))))\n",
    "            c2 = self.layer1(c1)\n",
    "            c3 = self.layer2(c2)\n",
    "            c4 = self.layer3(c3)\n",
    "            c5 = self.layer4(c4)\n",
    "            # 至上而下\n",
    "            p5 = self.toplayer(c5)\n",
    "            p4 = self._upsample_add(p5, self.latlayer1(c4))\n",
    "            p3 = self._upsample_add(p4, self.latlayer2(c3))\n",
    "            p2 = self._upsample_add(p3, self.latlayer3(c2))\n",
    "            # 卷积融合, 平滑处理\n",
    "            p4 = self.smooth(p4)\n",
    "            p3 = self.smooth(p3)\n",
    "            p2 = self.smooth(p2)\n",
    "            return p2, p3, p4, p5"
   ]
  },
  {
   "cell_type": "code",
   "execution_count": 34,
   "metadata": {
    "ExecuteTime": {
     "end_time": "2020-01-10T13:26:44.034471Z",
     "start_time": "2020-01-10T13:26:43.857721Z"
    }
   },
   "outputs": [],
   "source": [
    "fpn = FPN([3, 4, 6, 3])"
   ]
  },
  {
   "cell_type": "code",
   "execution_count": 35,
   "metadata": {
    "ExecuteTime": {
     "end_time": "2020-01-10T13:26:46.233576Z",
     "start_time": "2020-01-10T13:26:46.227589Z"
    }
   },
   "outputs": [
    {
     "data": {
      "text/plain": [
       "Conv2d(3, 64, kernel_size=(7, 7), stride=(2, 2), padding=(3, 3), bias=False)"
      ]
     },
     "execution_count": 35,
     "metadata": {},
     "output_type": "execute_result"
    }
   ],
   "source": [
    "fpn.conv1"
   ]
  },
  {
   "cell_type": "code",
   "execution_count": 36,
   "metadata": {
    "ExecuteTime": {
     "end_time": "2020-01-10T13:26:46.757516Z",
     "start_time": "2020-01-10T13:26:46.752529Z"
    },
    "collapsed": true
   },
   "outputs": [
    {
     "data": {
      "text/plain": [
       "Sequential(\n",
       "  (0): Bottleneck(\n",
       "    (bottleneck): Sequential(\n",
       "      (0): Conv2d(64, 64, kernel_size=(1, 1), stride=(1, 1), bias=False)\n",
       "      (1): BatchNorm2d(64, eps=1e-05, momentum=0.1, affine=True, track_running_stats=True)\n",
       "      (2): ReLU(inplace=True)\n",
       "      (3): Conv2d(64, 64, kernel_size=(3, 3), stride=(1, 1), padding=(1, 1), bias=False)\n",
       "      (4): BatchNorm2d(64, eps=1e-05, momentum=0.1, affine=True, track_running_stats=True)\n",
       "      (5): ReLU(inplace=True)\n",
       "      (6): Conv2d(64, 256, kernel_size=(1, 1), stride=(1, 1), bias=False)\n",
       "      (7): BatchNorm2d(256, eps=1e-05, momentum=0.1, affine=True, track_running_stats=True)\n",
       "    )\n",
       "    (relu): ReLU(inplace=True)\n",
       "    (downsample): Sequential(\n",
       "      (0): Conv2d(64, 256, kernel_size=(1, 1), stride=(1, 1), bias=False)\n",
       "      (1): BatchNorm2d(256, eps=1e-05, momentum=0.1, affine=True, track_running_stats=True)\n",
       "    )\n",
       "  )\n",
       "  (1): Bottleneck(\n",
       "    (bottleneck): Sequential(\n",
       "      (0): Conv2d(256, 64, kernel_size=(1, 1), stride=(1, 1), bias=False)\n",
       "      (1): BatchNorm2d(64, eps=1e-05, momentum=0.1, affine=True, track_running_stats=True)\n",
       "      (2): ReLU(inplace=True)\n",
       "      (3): Conv2d(64, 64, kernel_size=(3, 3), stride=(1, 1), padding=(1, 1), bias=False)\n",
       "      (4): BatchNorm2d(64, eps=1e-05, momentum=0.1, affine=True, track_running_stats=True)\n",
       "      (5): ReLU(inplace=True)\n",
       "      (6): Conv2d(64, 256, kernel_size=(1, 1), stride=(1, 1), bias=False)\n",
       "      (7): BatchNorm2d(256, eps=1e-05, momentum=0.1, affine=True, track_running_stats=True)\n",
       "    )\n",
       "    (relu): ReLU(inplace=True)\n",
       "  )\n",
       "  (2): Bottleneck(\n",
       "    (bottleneck): Sequential(\n",
       "      (0): Conv2d(256, 64, kernel_size=(1, 1), stride=(1, 1), bias=False)\n",
       "      (1): BatchNorm2d(64, eps=1e-05, momentum=0.1, affine=True, track_running_stats=True)\n",
       "      (2): ReLU(inplace=True)\n",
       "      (3): Conv2d(64, 64, kernel_size=(3, 3), stride=(1, 1), padding=(1, 1), bias=False)\n",
       "      (4): BatchNorm2d(64, eps=1e-05, momentum=0.1, affine=True, track_running_stats=True)\n",
       "      (5): ReLU(inplace=True)\n",
       "      (6): Conv2d(64, 256, kernel_size=(1, 1), stride=(1, 1), bias=False)\n",
       "      (7): BatchNorm2d(256, eps=1e-05, momentum=0.1, affine=True, track_running_stats=True)\n",
       "    )\n",
       "    (relu): ReLU(inplace=True)\n",
       "  )\n",
       ")"
      ]
     },
     "execution_count": 36,
     "metadata": {},
     "output_type": "execute_result"
    }
   ],
   "source": [
    "fpn.layer1"
   ]
  },
  {
   "cell_type": "code",
   "execution_count": 37,
   "metadata": {
    "ExecuteTime": {
     "end_time": "2020-01-10T13:26:49.934450Z",
     "start_time": "2020-01-10T13:26:49.929427Z"
    }
   },
   "outputs": [
    {
     "data": {
      "text/plain": [
       "Conv2d(2048, 256, kernel_size=(1, 1), stride=(1, 1))"
      ]
     },
     "execution_count": 37,
     "metadata": {},
     "output_type": "execute_result"
    }
   ],
   "source": [
    "fpn.toplayer"
   ]
  },
  {
   "cell_type": "code",
   "execution_count": 38,
   "metadata": {
    "ExecuteTime": {
     "end_time": "2020-01-10T13:26:50.854271Z",
     "start_time": "2020-01-10T13:26:50.849230Z"
    }
   },
   "outputs": [],
   "source": [
    "data = torch.randn(1, 3, 224, 224)"
   ]
  },
  {
   "cell_type": "code",
   "execution_count": 40,
   "metadata": {
    "ExecuteTime": {
     "end_time": "2020-01-10T13:26:55.717801Z",
     "start_time": "2020-01-10T13:26:55.108500Z"
    }
   },
   "outputs": [],
   "source": [
    "out = fpn(data)"
   ]
  },
  {
   "cell_type": "code",
   "execution_count": 43,
   "metadata": {
    "ExecuteTime": {
     "end_time": "2020-01-10T13:27:48.526540Z",
     "start_time": "2020-01-10T13:27:48.521035Z"
    }
   },
   "outputs": [
    {
     "data": {
      "text/plain": [
       "torch.Size([1, 256, 56, 56])"
      ]
     },
     "execution_count": 43,
     "metadata": {},
     "output_type": "execute_result"
    }
   ],
   "source": [
    "# p2\n",
    "out[0].shape"
   ]
  },
  {
   "cell_type": "code",
   "execution_count": 44,
   "metadata": {
    "ExecuteTime": {
     "end_time": "2020-01-10T13:28:03.549351Z",
     "start_time": "2020-01-10T13:28:03.542369Z"
    }
   },
   "outputs": [
    {
     "data": {
      "text/plain": [
       "torch.Size([1, 256, 28, 28])"
      ]
     },
     "execution_count": 44,
     "metadata": {},
     "output_type": "execute_result"
    }
   ],
   "source": [
    "# p3\n",
    "out[1].shape"
   ]
  },
  {
   "cell_type": "code",
   "execution_count": 45,
   "metadata": {
    "ExecuteTime": {
     "end_time": "2020-01-10T13:28:22.405017Z",
     "start_time": "2020-01-10T13:28:22.400029Z"
    }
   },
   "outputs": [
    {
     "data": {
      "text/plain": [
       "torch.Size([1, 256, 14, 14])"
      ]
     },
     "execution_count": 45,
     "metadata": {},
     "output_type": "execute_result"
    }
   ],
   "source": [
    "# p4\n",
    "out[2].shape"
   ]
  },
  {
   "cell_type": "code",
   "execution_count": 46,
   "metadata": {
    "ExecuteTime": {
     "end_time": "2020-01-10T13:28:37.328742Z",
     "start_time": "2020-01-10T13:28:37.323754Z"
    }
   },
   "outputs": [
    {
     "data": {
      "text/plain": [
       "torch.Size([1, 256, 7, 7])"
      ]
     },
     "execution_count": 46,
     "metadata": {},
     "output_type": "execute_result"
    }
   ],
   "source": [
    "# p5\n",
    "out[3].shape"
   ]
  },
  {
   "cell_type": "code",
   "execution_count": null,
   "metadata": {},
   "outputs": [],
   "source": []
  }
 ],
 "metadata": {
  "kernelspec": {
   "display_name": "Python 3",
   "language": "python",
   "name": "python3"
  },
  "language_info": {
   "codemirror_mode": {
    "name": "ipython",
    "version": 3
   },
   "file_extension": ".py",
   "mimetype": "text/x-python",
   "name": "python",
   "nbconvert_exporter": "python",
   "pygments_lexer": "ipython3",
   "version": "3.7.5rc1"
  }
 },
 "nbformat": 4,
 "nbformat_minor": 2
}
