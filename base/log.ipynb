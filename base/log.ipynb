{
 "cells": [
  {
   "cell_type": "code",
   "execution_count": 1,
   "metadata": {
    "ExecuteTime": {
     "end_time": "2020-01-08T13:26:55.101114Z",
     "start_time": "2020-01-08T13:26:55.096128Z"
    }
   },
   "outputs": [],
   "source": [
    "import torch\n",
    "import torchvision\n",
    "from torch.utils.tensorboard import SummaryWriter\n",
    "from torchvision import datasets, transforms"
   ]
  },
  {
   "cell_type": "code",
   "execution_count": 2,
   "metadata": {
    "ExecuteTime": {
     "end_time": "2020-01-08T13:27:30.394370Z",
     "start_time": "2020-01-08T13:27:30.373005Z"
    }
   },
   "outputs": [],
   "source": [
    "writer = SummaryWriter('./logs')"
   ]
  },
  {
   "cell_type": "code",
   "execution_count": 3,
   "metadata": {
    "ExecuteTime": {
     "end_time": "2020-01-08T13:30:20.264096Z",
     "start_time": "2020-01-08T13:29:49.699995Z"
    }
   },
   "outputs": [
    {
     "name": "stderr",
     "output_type": "stream",
     "text": [
      "\r",
      "0it [00:00, ?it/s]"
     ]
    },
    {
     "name": "stdout",
     "output_type": "stream",
     "text": [
      "Downloading http://yann.lecun.com/exdb/mnist/train-images-idx3-ubyte.gz to mnist_train\\MNIST\\raw\\train-images-idx3-ubyte.gz\n"
     ]
    },
    {
     "name": "stderr",
     "output_type": "stream",
     "text": [
      " 99%|██████████████████████████████████████████████████████████████████▌| 9846784/9912422 [00:12<00:00, 1060072.03it/s]"
     ]
    },
    {
     "name": "stdout",
     "output_type": "stream",
     "text": [
      "Extracting mnist_train\\MNIST\\raw\\train-images-idx3-ubyte.gz to mnist_train\\MNIST\\raw\n"
     ]
    },
    {
     "name": "stderr",
     "output_type": "stream",
     "text": [
      "\n",
      "0it [00:00, ?it/s]\u001b[A"
     ]
    },
    {
     "name": "stdout",
     "output_type": "stream",
     "text": [
      "Downloading http://yann.lecun.com/exdb/mnist/train-labels-idx1-ubyte.gz to mnist_train\\MNIST\\raw\\train-labels-idx1-ubyte.gz\n"
     ]
    },
    {
     "name": "stderr",
     "output_type": "stream",
     "text": [
      "\n",
      "  0%|                                                                                        | 0/28881 [00:01<?, ?it/s]\u001b[A\n",
      "32768it [00:01, 21161.89it/s]                                                                                          \u001b[A\n",
      "\n",
      "0it [00:00, ?it/s]\u001b[A"
     ]
    },
    {
     "name": "stdout",
     "output_type": "stream",
     "text": [
      "Extracting mnist_train\\MNIST\\raw\\train-labels-idx1-ubyte.gz to mnist_train\\MNIST\\raw\n",
      "Downloading http://yann.lecun.com/exdb/mnist/t10k-images-idx3-ubyte.gz to mnist_train\\MNIST\\raw\\t10k-images-idx3-ubyte.gz\n"
     ]
    },
    {
     "name": "stderr",
     "output_type": "stream",
     "text": [
      "\n",
      "  0%|                                                                                      | 0/1648877 [00:00<?, ?it/s]\u001b[A\n",
      "  1%|▋                                                                      | 16384/1648877 [00:01<01:02, 26172.86it/s]\u001b[A\n",
      "  2%|█▊                                                                     | 40960/1648877 [00:01<00:51, 31524.23it/s]\u001b[A\n",
      "  6%|████▏                                                                  | 98304/1648877 [00:02<00:37, 40998.87it/s]\u001b[A\n",
      "  8%|█████▌                                                                | 131072/1648877 [00:02<00:27, 55188.78it/s]\u001b[A\n",
      " 10%|██████▉                                                               | 163840/1648877 [00:02<00:22, 65258.71it/s]\u001b[A\n",
      " 18%|████████████▌                                                         | 294912/1648877 [00:02<00:15, 85760.66it/s]\u001b[A\n",
      " 26%|█████████████████▊                                                   | 425984/1648877 [00:03<00:11, 108930.80it/s]\u001b[A\n",
      " 39%|██████████████████████████▋                                          | 638976/1648877 [00:03<00:07, 143805.26it/s]\u001b[A\n",
      " 48%|█████████████████████████████████▎                                   | 794624/1648877 [00:04<00:04, 174938.29it/s]\u001b[A\n",
      " 58%|████████████████████████████████████████                             | 958464/1648877 [00:04<00:03, 212817.95it/s]\u001b[A\n",
      " 64%|███████████████████████████████████████████▌                        | 1056768/1648877 [00:04<00:02, 271501.68it/s]\u001b[A\n",
      " 69%|██████████████████████████████████████████████▉                     | 1138688/1648877 [00:04<00:01, 270378.01it/s]\u001b[A\n",
      " 80%|██████████████████████████████████████████████████████▋             | 1327104/1648877 [00:05<00:01, 310620.49it/s]\u001b[A\n",
      " 93%|███████████████████████████████████████████████████████████████▏    | 1531904/1648877 [00:05<00:00, 346311.61it/s]\u001b[A\n",
      "\n",
      "0it [00:00, ?it/s]\u001b[A\u001b[A"
     ]
    },
    {
     "name": "stdout",
     "output_type": "stream",
     "text": [
      "Extracting mnist_train\\MNIST\\raw\\t10k-images-idx3-ubyte.gz to mnist_train\\MNIST\\raw\n",
      "Downloading http://yann.lecun.com/exdb/mnist/t10k-labels-idx1-ubyte.gz to mnist_train\\MNIST\\raw\\t10k-labels-idx1-ubyte.gz\n"
     ]
    },
    {
     "name": "stderr",
     "output_type": "stream",
     "text": [
      "\n",
      "\n",
      "8192it [00:00, 11507.60it/s]                                                                                           \u001b[A\u001b[A\n"
     ]
    },
    {
     "name": "stdout",
     "output_type": "stream",
     "text": [
      "Extracting mnist_train\\MNIST\\raw\\t10k-labels-idx1-ubyte.gz to mnist_train\\MNIST\\raw\n",
      "Processing...\n",
      "Done!\n"
     ]
    },
    {
     "name": "stderr",
     "output_type": "stream",
     "text": [
      "9920512it [00:30, 1060072.03it/s]                                                                                      \n",
      "1654784it [00:24, 346311.61it/s]                                                                                       \u001b[A"
     ]
    }
   ],
   "source": [
    "transform = transforms.Compose([transforms.ToTensor(), transforms.Normalize((0.5,), (0.5,))])\n",
    "trainset = datasets.MNIST('mnist_train', train=True, download=True, transform=transform)\n",
    "trainloader = torch.utils.data.DataLoader(trainset, batch_size=64, shuffle=True)\n",
    "model = torchvision.models.resnet50(False)\n",
    "# Have ResNet model take in grayscale rather than RGB\n",
    "model.conv1 = torch.nn.Conv2d(1, 64, kernel_size=7, stride=2, padding=3, bias=False)\n",
    "images, labels = next(iter(trainloader))\n",
    "\n",
    "grid = torchvision.utils.make_grid(images)\n",
    "writer.add_image('images', grid, 0)\n",
    "writer.add_graph(model, images)\n",
    "writer.close()"
   ]
  },
  {
   "cell_type": "code",
   "execution_count": null,
   "metadata": {},
   "outputs": [],
   "source": [
    "        # 1. 记录标量值\n",
    "        info = { 'loss': loss.item(), 'accuracy': accuracy.item() }\n",
    " \n",
    "        for tag, value in info.items():\n",
    "            logger.scalar_summary(tag, value, step+1)\n",
    " \n",
    "        # 2. 记录参数的值和梯度\n",
    "        for tag, value in model.named_parameters():\n",
    "            tag = tag.replace('.', '/')\n",
    "            logger.histo_summary(tag, value.data.cpu().numpy(), step+1)\n",
    "            logger.histo_summary(tag+'/grad', value.grad.data.cpu().numpy(), step+1)\n",
    " \n",
    "        # 3. 记录训练集每次迭代获取到的图像（取前10张）\n",
    "        info = { 'images': images.view(-1, 28, 28)[:10].cpu().numpy() }\n",
    " \n",
    "        for tag, images in info.items():\n",
    "            logger.image_summary(tag, images, step+1)"
   ]
  }
 ],
 "metadata": {
  "kernelspec": {
   "display_name": "Python 3",
   "language": "python",
   "name": "python3"
  },
  "language_info": {
   "codemirror_mode": {
    "name": "ipython",
    "version": 3
   },
   "file_extension": ".py",
   "mimetype": "text/x-python",
   "name": "python",
   "nbconvert_exporter": "python",
   "pygments_lexer": "ipython3",
   "version": "3.7.5rc1"
  }
 },
 "nbformat": 4,
 "nbformat_minor": 2
}
