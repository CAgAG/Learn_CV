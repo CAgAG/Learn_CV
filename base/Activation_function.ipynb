{
 "cells": [
  {
   "cell_type": "code",
   "execution_count": 1,
   "metadata": {
    "ExecuteTime": {
     "end_time": "2020-01-09T04:51:45.858080Z",
     "start_time": "2020-01-09T04:51:45.853093Z"
    }
   },
   "outputs": [],
   "source": [
    "import torch\n",
    "from torch import nn\n",
    "import torch.nn.functional as F"
   ]
  },
  {
   "cell_type": "code",
   "execution_count": 6,
   "metadata": {
    "ExecuteTime": {
     "end_time": "2020-01-09T04:53:26.318255Z",
     "start_time": "2020-01-09T04:53:26.311277Z"
    }
   },
   "outputs": [],
   "source": [
    "import numpy as np"
   ]
  },
  {
   "cell_type": "code",
   "execution_count": 22,
   "metadata": {
    "ExecuteTime": {
     "end_time": "2020-01-09T05:03:12.202301Z",
     "start_time": "2020-01-09T05:03:12.191306Z"
    }
   },
   "outputs": [
    {
     "data": {
      "text/plain": [
       "tensor([[[[ 0.3283, -0.8489],\n",
       "          [ 0.4182,  0.0571]]]])"
      ]
     },
     "execution_count": 22,
     "metadata": {},
     "output_type": "execute_result"
    }
   ],
   "source": [
    "In = torch.randn(1, 1, 2, 2)\n",
    "In"
   ]
  },
  {
   "cell_type": "markdown",
   "metadata": {},
   "source": [
    "### Sigmoid 函数"
   ]
  },
  {
   "cell_type": "code",
   "execution_count": 23,
   "metadata": {
    "ExecuteTime": {
     "end_time": "2020-01-09T05:03:13.673901Z",
     "start_time": "2020-01-09T05:03:13.669912Z"
    }
   },
   "outputs": [],
   "source": [
    "f_sigmoid = 1 / (1 + np.exp(-1 * In.numpy()))"
   ]
  },
  {
   "cell_type": "code",
   "execution_count": 24,
   "metadata": {
    "ExecuteTime": {
     "end_time": "2020-01-09T05:03:14.040941Z",
     "start_time": "2020-01-09T05:03:14.036953Z"
    }
   },
   "outputs": [],
   "source": [
    "sigmoid = nn.Sigmoid()"
   ]
  },
  {
   "cell_type": "code",
   "execution_count": 25,
   "metadata": {
    "ExecuteTime": {
     "end_time": "2020-01-09T05:03:14.544961Z",
     "start_time": "2020-01-09T05:03:14.538908Z"
    }
   },
   "outputs": [
    {
     "data": {
      "text/plain": [
       "tensor([[[[0.5813, 0.2997],\n",
       "          [0.6031, 0.5143]]]])"
      ]
     },
     "execution_count": 25,
     "metadata": {},
     "output_type": "execute_result"
    }
   ],
   "source": [
    "sigmoid(In)"
   ]
  },
  {
   "cell_type": "code",
   "execution_count": 26,
   "metadata": {
    "ExecuteTime": {
     "end_time": "2020-01-09T05:03:15.255976Z",
     "start_time": "2020-01-09T05:03:15.250023Z"
    }
   },
   "outputs": [
    {
     "data": {
      "text/plain": [
       "array([[[[0.58134687, 0.29965484],\n",
       "         [0.6030618 , 0.5142654 ]]]], dtype=float32)"
      ]
     },
     "execution_count": 26,
     "metadata": {},
     "output_type": "execute_result"
    }
   ],
   "source": [
    "f_sigmoid"
   ]
  },
  {
   "cell_type": "code",
   "execution_count": 27,
   "metadata": {
    "ExecuteTime": {
     "end_time": "2020-01-09T05:03:16.669972Z",
     "start_time": "2020-01-09T05:03:16.664023Z"
    }
   },
   "outputs": [
    {
     "data": {
      "text/plain": [
       "array([[[[0., 0.],\n",
       "         [0., 0.]]]])"
      ]
     },
     "execution_count": 27,
     "metadata": {},
     "output_type": "execute_result"
    }
   ],
   "source": [
    "np.zeros(In.numpy().shape)"
   ]
  },
  {
   "cell_type": "markdown",
   "metadata": {},
   "source": [
    "### ReLU 函数"
   ]
  },
  {
   "cell_type": "code",
   "execution_count": 28,
   "metadata": {
    "ExecuteTime": {
     "end_time": "2020-01-09T05:03:23.787020Z",
     "start_time": "2020-01-09T05:03:23.782612Z"
    }
   },
   "outputs": [
    {
     "data": {
      "text/plain": [
       "array([[[[0.32830489, 0.        ],\n",
       "         [0.41823909, 0.05707722]]]])"
      ]
     },
     "execution_count": 28,
     "metadata": {},
     "output_type": "execute_result"
    }
   ],
   "source": [
    "f_relu = np.maximum(np.zeros(In.numpy().shape), In.numpy())\n",
    "f_relu"
   ]
  },
  {
   "cell_type": "code",
   "execution_count": 30,
   "metadata": {
    "ExecuteTime": {
     "end_time": "2020-01-09T05:03:57.212884Z",
     "start_time": "2020-01-09T05:03:57.207899Z"
    }
   },
   "outputs": [],
   "source": [
    "relu = nn.ReLU()"
   ]
  },
  {
   "cell_type": "code",
   "execution_count": 31,
   "metadata": {
    "ExecuteTime": {
     "end_time": "2020-01-09T05:04:05.696948Z",
     "start_time": "2020-01-09T05:04:05.676225Z"
    }
   },
   "outputs": [
    {
     "data": {
      "text/plain": [
       "tensor([[[[0.3283, 0.0000],\n",
       "          [0.4182, 0.0571]]]])"
      ]
     },
     "execution_count": 31,
     "metadata": {},
     "output_type": "execute_result"
    }
   ],
   "source": [
    "relu(In)"
   ]
  },
  {
   "cell_type": "markdown",
   "metadata": {},
   "source": [
    "### Leaky ReLU 函数"
   ]
  },
  {
   "cell_type": "code",
   "execution_count": 37,
   "metadata": {
    "ExecuteTime": {
     "end_time": "2020-01-09T05:07:50.476221Z",
     "start_time": "2020-01-09T05:07:50.471200Z"
    }
   },
   "outputs": [
    {
     "data": {
      "text/plain": [
       "array([[[[ 0.3283049 , -0.03395768],\n",
       "         [ 0.4182391 ,  0.05707722]]]], dtype=float32)"
      ]
     },
     "execution_count": 37,
     "metadata": {},
     "output_type": "execute_result"
    }
   ],
   "source": [
    "f_leaky_relu = np.maximum((.04)*In.numpy(), In.numpy())\n",
    "f_leaky_relu"
   ]
  },
  {
   "cell_type": "code",
   "execution_count": 34,
   "metadata": {
    "ExecuteTime": {
     "end_time": "2020-01-09T05:07:01.905076Z",
     "start_time": "2020-01-09T05:07:01.900054Z"
    }
   },
   "outputs": [],
   "source": [
    "leaky_relu = nn.LeakyReLU()"
   ]
  },
  {
   "cell_type": "code",
   "execution_count": 38,
   "metadata": {
    "ExecuteTime": {
     "end_time": "2020-01-09T05:07:54.637287Z",
     "start_time": "2020-01-09T05:07:54.631270Z"
    }
   },
   "outputs": [
    {
     "data": {
      "text/plain": [
       "tensor([[[[ 0.3283, -0.0085],\n",
       "          [ 0.4182,  0.0571]]]])"
      ]
     },
     "execution_count": 38,
     "metadata": {},
     "output_type": "execute_result"
    }
   ],
   "source": [
    "leaky_relu(In)"
   ]
  },
  {
   "cell_type": "markdown",
   "metadata": {},
   "source": [
    "### Softmax 函数"
   ]
  },
  {
   "cell_type": "code",
   "execution_count": 39,
   "metadata": {
    "ExecuteTime": {
     "end_time": "2020-01-09T05:10:06.741492Z",
     "start_time": "2020-01-09T05:10:06.736296Z"
    }
   },
   "outputs": [],
   "source": [
    "def softmax(x):\n",
    "    x_exp = np.exp(x)\n",
    "    #如果是列向量，则axis=0\n",
    "    x_sum = np.sum(x_exp, axis = 1, keepdims = True)\n",
    "    s = x_exp / x_sum    \n",
    "    return s"
   ]
  },
  {
   "cell_type": "code",
   "execution_count": 40,
   "metadata": {
    "ExecuteTime": {
     "end_time": "2020-01-09T05:10:23.677715Z",
     "start_time": "2020-01-09T05:10:23.671737Z"
    }
   },
   "outputs": [
    {
     "data": {
      "text/plain": [
       "array([[[[1., 1.],\n",
       "         [1., 1.]]]], dtype=float32)"
      ]
     },
     "execution_count": 40,
     "metadata": {},
     "output_type": "execute_result"
    }
   ],
   "source": [
    "softmax(In.numpy())"
   ]
  },
  {
   "cell_type": "code",
   "execution_count": 47,
   "metadata": {
    "ExecuteTime": {
     "end_time": "2020-01-09T05:12:19.062936Z",
     "start_time": "2020-01-09T05:12:19.057732Z"
    }
   },
   "outputs": [],
   "source": [
    "Softmax = F.softmax(In, 1)"
   ]
  },
  {
   "cell_type": "code",
   "execution_count": 48,
   "metadata": {
    "ExecuteTime": {
     "end_time": "2020-01-09T05:12:29.220190Z",
     "start_time": "2020-01-09T05:12:29.213196Z"
    }
   },
   "outputs": [
    {
     "data": {
      "text/plain": [
       "tensor([[[[1., 1.],\n",
       "          [1., 1.]]]])"
      ]
     },
     "execution_count": 48,
     "metadata": {},
     "output_type": "execute_result"
    }
   ],
   "source": [
    "Softmax"
   ]
  },
  {
   "cell_type": "markdown",
   "metadata": {},
   "source": [
    "### tanh 函数"
   ]
  },
  {
   "cell_type": "code",
   "execution_count": 49,
   "metadata": {
    "ExecuteTime": {
     "end_time": "2020-01-09T05:13:34.911019Z",
     "start_time": "2020-01-09T05:13:34.906000Z"
    }
   },
   "outputs": [],
   "source": [
    "def tanh(x):\n",
    "    return (np.exp(x) - np.exp(-x)) / (np.exp(x) + np.exp(-x)) "
   ]
  },
  {
   "cell_type": "code",
   "execution_count": 50,
   "metadata": {
    "ExecuteTime": {
     "end_time": "2020-01-09T05:14:07.845340Z",
     "start_time": "2020-01-09T05:14:07.840350Z"
    }
   },
   "outputs": [
    {
     "data": {
      "text/plain": [
       "array([[[[ 0.31699684, -0.69051635],\n",
       "         [ 0.3954459 ,  0.0570153 ]]]], dtype=float32)"
      ]
     },
     "execution_count": 50,
     "metadata": {},
     "output_type": "execute_result"
    }
   ],
   "source": [
    "tanh(In.numpy())"
   ]
  },
  {
   "cell_type": "code",
   "execution_count": 51,
   "metadata": {
    "ExecuteTime": {
     "end_time": "2020-01-09T05:14:27.191628Z",
     "start_time": "2020-01-09T05:14:27.186212Z"
    }
   },
   "outputs": [],
   "source": [
    "Tanh = nn.Tanh() "
   ]
  },
  {
   "cell_type": "code",
   "execution_count": 52,
   "metadata": {
    "ExecuteTime": {
     "end_time": "2020-01-09T05:14:31.729103Z",
     "start_time": "2020-01-09T05:14:31.711121Z"
    }
   },
   "outputs": [
    {
     "data": {
      "text/plain": [
       "tensor([[[[ 0.3170, -0.6905],\n",
       "          [ 0.3954,  0.0570]]]])"
      ]
     },
     "execution_count": 52,
     "metadata": {},
     "output_type": "execute_result"
    }
   ],
   "source": [
    "Tanh(In)"
   ]
  },
  {
   "cell_type": "code",
   "execution_count": null,
   "metadata": {},
   "outputs": [],
   "source": []
  }
 ],
 "metadata": {
  "kernelspec": {
   "display_name": "Python 3",
   "language": "python",
   "name": "python3"
  },
  "language_info": {
   "codemirror_mode": {
    "name": "ipython",
    "version": 3
   },
   "file_extension": ".py",
   "mimetype": "text/x-python",
   "name": "python",
   "nbconvert_exporter": "python",
   "pygments_lexer": "ipython3",
   "version": "3.7.5rc1"
  }
 },
 "nbformat": 4,
 "nbformat_minor": 2
}
